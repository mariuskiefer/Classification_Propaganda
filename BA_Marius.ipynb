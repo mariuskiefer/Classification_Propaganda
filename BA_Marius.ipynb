{
  "cells": [
    {
      "cell_type": "markdown",
      "metadata": {
        "id": "view-in-github",
        "colab_type": "text"
      },
      "source": [
        "<a href=\"https://colab.research.google.com/github/mariuskiefer/Classification_Propaganda/blob/main/BA_Marius.ipynb\" target=\"_parent\"><img src=\"https://colab.research.google.com/assets/colab-badge.svg\" alt=\"Open In Colab\"/></a>"
      ]
    },
    {
      "cell_type": "markdown",
      "source": [
        "# Install required dependencies for Google Colab"
      ],
      "metadata": {
        "id": "tBg7-VhZ9j5j"
      }
    },
    {
      "cell_type": "code",
      "execution_count": 1,
      "metadata": {
        "colab": {
          "base_uri": "https://localhost:8080/"
        },
        "id": "bbj1HgfAeXiS",
        "outputId": "937d3a4f-a216-4978-ceb7-611221f43505"
      },
      "outputs": [
        {
          "output_type": "stream",
          "name": "stdout",
          "text": [
            "Requirement already satisfied: regex in /usr/local/lib/python3.10/dist-packages (2023.6.3)\n"
          ]
        }
      ],
      "source": [
        "!pip install regex"
      ]
    },
    {
      "cell_type": "code",
      "execution_count": 2,
      "metadata": {
        "colab": {
          "base_uri": "https://localhost:8080/"
        },
        "id": "PJaF_0aieyOI",
        "outputId": "951309b7-256f-4455-ca5e-e1bcf89456a6"
      },
      "outputs": [
        {
          "output_type": "stream",
          "name": "stdout",
          "text": [
            "Requirement already satisfied: scikit-learn==1.2.2 in /usr/local/lib/python3.10/dist-packages (1.2.2)\n",
            "Requirement already satisfied: numpy>=1.17.3 in /usr/local/lib/python3.10/dist-packages (from scikit-learn==1.2.2) (1.23.5)\n",
            "Requirement already satisfied: scipy>=1.3.2 in /usr/local/lib/python3.10/dist-packages (from scikit-learn==1.2.2) (1.11.2)\n",
            "Requirement already satisfied: joblib>=1.1.1 in /usr/local/lib/python3.10/dist-packages (from scikit-learn==1.2.2) (1.3.2)\n",
            "Requirement already satisfied: threadpoolctl>=2.0.0 in /usr/local/lib/python3.10/dist-packages (from scikit-learn==1.2.2) (3.2.0)\n"
          ]
        }
      ],
      "source": [
        "!pip install -U scikit-learn==1.2.2"
      ]
    },
    {
      "cell_type": "code",
      "execution_count": 3,
      "metadata": {
        "colab": {
          "base_uri": "https://localhost:8080/"
        },
        "id": "64rlX6e7e6N5",
        "outputId": "b390cf05-1b48-4870-ad58-04bff791566c"
      },
      "outputs": [
        {
          "output_type": "stream",
          "name": "stdout",
          "text": [
            "Requirement already satisfied: nltk in /usr/local/lib/python3.10/dist-packages (3.8.1)\n",
            "Requirement already satisfied: click in /usr/local/lib/python3.10/dist-packages (from nltk) (8.1.7)\n",
            "Requirement already satisfied: joblib in /usr/local/lib/python3.10/dist-packages (from nltk) (1.3.2)\n",
            "Requirement already satisfied: regex>=2021.8.3 in /usr/local/lib/python3.10/dist-packages (from nltk) (2023.6.3)\n",
            "Requirement already satisfied: tqdm in /usr/local/lib/python3.10/dist-packages (from nltk) (4.66.1)\n"
          ]
        }
      ],
      "source": [
        "!pip install --user -U nltk"
      ]
    },
    {
      "cell_type": "code",
      "source": [
        "!pip install imbalanced-learn"
      ],
      "metadata": {
        "colab": {
          "base_uri": "https://localhost:8080/"
        },
        "id": "_0VT7US8N8rY",
        "outputId": "0cef8d52-1d82-4fc0-919b-8f43126fe1f3"
      },
      "execution_count": 4,
      "outputs": [
        {
          "output_type": "stream",
          "name": "stdout",
          "text": [
            "Requirement already satisfied: imbalanced-learn in /usr/local/lib/python3.10/dist-packages (0.10.1)\n",
            "Requirement already satisfied: numpy>=1.17.3 in /usr/local/lib/python3.10/dist-packages (from imbalanced-learn) (1.23.5)\n",
            "Requirement already satisfied: scipy>=1.3.2 in /usr/local/lib/python3.10/dist-packages (from imbalanced-learn) (1.11.2)\n",
            "Requirement already satisfied: scikit-learn>=1.0.2 in /usr/local/lib/python3.10/dist-packages (from imbalanced-learn) (1.2.2)\n",
            "Requirement already satisfied: joblib>=1.1.1 in /usr/local/lib/python3.10/dist-packages (from imbalanced-learn) (1.3.2)\n",
            "Requirement already satisfied: threadpoolctl>=2.0.0 in /usr/local/lib/python3.10/dist-packages (from imbalanced-learn) (3.2.0)\n"
          ]
        }
      ]
    },
    {
      "cell_type": "markdown",
      "source": [
        "# Import libraries"
      ],
      "metadata": {
        "id": "4TLVatyY9sX1"
      }
    },
    {
      "cell_type": "code",
      "execution_count": 5,
      "metadata": {
        "id": "cor61A0OTDYP"
      },
      "outputs": [],
      "source": [
        "import pandas as pd\n",
        "import numpy as np\n",
        "import matplotlib.pyplot as plt\n",
        "import json\n",
        "import pickle"
      ]
    },
    {
      "cell_type": "code",
      "execution_count": 6,
      "metadata": {
        "id": "qIdyjIxnfHyo"
      },
      "outputs": [],
      "source": [
        "import re\n",
        "from sklearn.datasets import load_files\n",
        "from nltk.corpus import stopwords\n",
        "import nltk"
      ]
    },
    {
      "cell_type": "markdown",
      "source": [
        "# Get the Data to and save as pandas Dataframe"
      ],
      "metadata": {
        "id": "ZhvZVmfK-CkV"
      }
    },
    {
      "cell_type": "code",
      "execution_count": null,
      "metadata": {
        "id": "QdCPHBwzQyFs"
      },
      "outputs": [],
      "source": [
        "#Get the data\n",
        "path = '/content/drive/MyDrive/ba_data/Colab_data/filtered_tweets_with_bot_no_news'\n",
        "df = pd.read_pickle(path)"
      ]
    },
    {
      "cell_type": "code",
      "execution_count": null,
      "metadata": {
        "id": "7XCjqoXxbPgY"
      },
      "outputs": [],
      "source": [
        "#Overview over data\n",
        "df.head(5)"
      ]
    },
    {
      "cell_type": "code",
      "execution_count": null,
      "metadata": {
        "id": "24bDmJjwbuew"
      },
      "outputs": [],
      "source": [
        "#Open Deleted and Non-Deleted ID-files to extract the tweets from original data\n",
        "\n",
        "with open('/content/drive/MyDrive/ba_data/Colab_data/deleted_ids.txt') as delfile:\n",
        "    deleted_ids = delfile.read().splitlines()\n",
        "\n",
        "\n",
        "with open('/content/drive/MyDrive/ba_data/Colab_data/nondeleted_ids.txt') as nondelfile:\n",
        "    nondeleted_ids = nondelfile.read().splitlines()\n",
        "\n",
        "\n",
        "col_one_list = df['id'].tolist()\n",
        "\n",
        "#Check if the array\n",
        "print(len(deleted_ids))\n",
        "print(len(nondeleted_ids))\n",
        "print(len(col_one_list))"
      ]
    },
    {
      "cell_type": "markdown",
      "source": [],
      "metadata": {
        "id": "vKn2zb46-Pvt"
      }
    },
    {
      "cell_type": "code",
      "execution_count": null,
      "metadata": {
        "id": "sUcr22SpcULj"
      },
      "outputs": [],
      "source": [
        "#Function to create 'Status' feature which holds information, if a tweet got deleted or not\n",
        "def classify_id(id_value):\n",
        "    if str(id_value) in deleted_ids:\n",
        "        return 1\n",
        "    elif str(id_value) in nondeleted_ids:\n",
        "        return 0\n",
        "    else:\n",
        "        return 'Unknown'\n",
        "\n",
        "df['status'] = df['id'].apply(classify_id)\n",
        "\n",
        "print(df[['id','status']].head(80))"
      ]
    },
    {
      "cell_type": "code",
      "execution_count": null,
      "metadata": {
        "id": "KlvA_F0LcvbA"
      },
      "outputs": [],
      "source": [
        "#Create new dataframe which only contains the deleted/non-deleted labeled data\n",
        "newdf = df.loc[df['status'] != 'Unknown'].copy()\n",
        "\n",
        "newdf.head(5)"
      ]
    },
    {
      "cell_type": "code",
      "execution_count": null,
      "metadata": {
        "id": "NgXT7mFtcydb"
      },
      "outputs": [],
      "source": [
        "#check length\n",
        "print(len(newdf.index))"
      ]
    },
    {
      "cell_type": "code",
      "execution_count": null,
      "metadata": {
        "id": "iUppMjtYdLsH"
      },
      "outputs": [],
      "source": [
        "#get the bot tweet ids and store them in an array\n",
        "file = open('/content/drive/MyDrive/ba_data/Colab_data/bot_tweet_ids.json')\n",
        "data = json.load(file)\n",
        "botidlist = []\n",
        "\n",
        "for i in data:\n",
        "    botidlist.append(str(i))\n",
        "\n",
        "print(len(botidlist))"
      ]
    },
    {
      "cell_type": "code",
      "execution_count": null,
      "metadata": {
        "id": "HhpHqbRgdb3V"
      },
      "outputs": [],
      "source": [
        "#create function to label tweet as bot tweet\n",
        "def classify_id_bot(id_value):\n",
        "    if str(id_value) in botidlist:\n",
        "        return 1\n",
        "    else:\n",
        "        return 0\n",
        "\n",
        "newdf['bot_status'] = newdf['id'].apply(classify_id_bot)"
      ]
    },
    {
      "cell_type": "code",
      "execution_count": null,
      "metadata": {
        "id": "pSR__gXJdkY2"
      },
      "outputs": [],
      "source": [
        "#Check of the new columns\n",
        "newdf.loc[: , ['id','bot_status', 'status']]"
      ]
    },
    {
      "cell_type": "code",
      "execution_count": null,
      "metadata": {
        "id": "7-kfKkdKdsHY"
      },
      "outputs": [],
      "source": [
        "#Create function to make plot easier\n",
        "def classify_bot_del(bot_value, del_value):\n",
        "    if ((int(bot_value) == 1 ) and (int(del_value) == 1)):\n",
        "        return (1,1)\n",
        "    elif ((int(bot_value) == 1 ) and (int(del_value) != 1)):\n",
        "        return (1,0)\n",
        "    elif ((int(bot_value) != 1) and (int(del_value) == 1)):\n",
        "        return (0,1)\n",
        "    elif ((int(bot_value) != 1) and (int(del_value) != 1)):\n",
        "        return (0,0)\n",
        "    else:\n",
        "        return 'Something went wrong'"
      ]
    },
    {
      "cell_type": "code",
      "execution_count": null,
      "metadata": {
        "id": "pv2vxhNod3PH"
      },
      "outputs": [],
      "source": [
        "#apply function\n",
        "newdf['bot_del_tupel'] = newdf.apply(lambda x: classify_bot_del(x['bot_status'], x['status']), axis=1)"
      ]
    },
    {
      "cell_type": "code",
      "source": [
        "newdf.to_pickle(\"/content/drive/MyDrive/ba_data/Colab_data/newdf.pkl\")"
      ],
      "metadata": {
        "id": "DO0HU7YPT8RV"
      },
      "execution_count": null,
      "outputs": []
    },
    {
      "cell_type": "markdown",
      "source": [
        "# Load the new dataframe to skip the steps before and save time running the whole notebook"
      ],
      "metadata": {
        "id": "B-k2y1-3Cljp"
      }
    },
    {
      "cell_type": "code",
      "source": [
        "newdf = pd.read_pickle(\"/content/drive/MyDrive/ba_data/Colab_data/newdf.pkl\")"
      ],
      "metadata": {
        "id": "Jx2WV7RBVPPP"
      },
      "execution_count": 92,
      "outputs": []
    },
    {
      "cell_type": "code",
      "source": [
        "newdf.head(5)"
      ],
      "metadata": {
        "colab": {
          "base_uri": "https://localhost:8080/",
          "height": 0
        },
        "id": "PA-2kFnPVWHU",
        "outputId": "8f4d2e22-14d2-48a4-8184-bab784c352c4"
      },
      "execution_count": 93,
      "outputs": [
        {
          "output_type": "execute_result",
          "data": {
            "text/plain": [
              "                    id                created_at  \\\n",
              "0  1488409670985342976 2022-02-01 07:11:33+00:00   \n",
              "1  1488519264965632000 2022-02-01 14:27:02+00:00   \n",
              "2  1488722144221556736 2022-02-02 03:53:12+00:00   \n",
              "3  1488778932396732416 2022-02-02 07:38:52+00:00   \n",
              "4  1488959106962669568 2022-02-02 19:34:49+00:00   \n",
              "\n",
              "                                                text            author_id  \\\n",
              "0  RT @marylin45277502: Bravo Russia. Zionists ar...  1403385555522568192   \n",
              "1  @SarahMacFCDO @NATO @trussliz Does it mean tha...            131222694   \n",
              "2  @jensstoltenberg @SecBlinken @RauZbigniew @Jos...            131222694   \n",
              "3                             #StandWithRussia 🇷🇺🪖💪🏼  1455721787090743296   \n",
              "4  .@mfa_russia is right to mock @BorisJohnson an...             14109618   \n",
              "\n",
              "                                 context_annotations lang reply_settings  \\\n",
              "0  [{'domain': {'id': '67', 'name': 'Interests an...   en       everyone   \n",
              "1  [{'domain': {'id': '88', 'name': 'Political Bo...   en       everyone   \n",
              "2  [{'domain': {'id': '10', 'name': 'Person', 'de...   en       everyone   \n",
              "3                                                NaN  und       everyone   \n",
              "4  [{'domain': {'id': '10', 'name': 'Person', 'de...   en       everyone   \n",
              "\n",
              "                                   referenced_tweets      conversation_id  \\\n",
              "0  [{'type': 'retweeted', 'id': '1488233560343519...  1488409670985342976   \n",
              "1  [{'type': 'replied_to', 'id': '148843635517684...  1488436355176841216   \n",
              "2  [{'type': 'replied_to', 'id': '148862016316767...  1488620163167670272   \n",
              "3                                                NaN  1488778932396732416   \n",
              "4                                                NaN  1488959106962669568   \n",
              "\n",
              "   in_reply_to_user_id  ...  \\\n",
              "0                  NaN  ...   \n",
              "1         1.194610e+18  ...   \n",
              "2         2.079607e+07  ...   \n",
              "3                  NaN  ...   \n",
              "4                  NaN  ...   \n",
              "\n",
              "                            profile_image_url_author  username_author  \\\n",
              "0  https://pbs.twimg.com/profile_images/145772126...  2K2CxBg235TwT8H   \n",
              "1  https://pbs.twimg.com/profile_images/154279417...   boriskulikov83   \n",
              "2  https://pbs.twimg.com/profile_images/154279417...   boriskulikov83   \n",
              "3  https://pbs.twimg.com/profile_images/153765746...     ussygussy369   \n",
              "4  https://pbs.twimg.com/profile_images/68370635/...        sengeezer   \n",
              "\n",
              "  verified_author                                    entities_author  \\\n",
              "0           False                                                NaN   \n",
              "1           False  {'description': {'hashtags': [{'start': 93, 'e...   \n",
              "2           False  {'description': {'hashtags': [{'start': 93, 'e...   \n",
              "3           False                                                NaN   \n",
              "4           False  {'url': {'urls': [{'start': 0, 'end': 23, 'url...   \n",
              "\n",
              "  pinned_tweet_id_author          location_author withheld_author status  \\\n",
              "0                    NaN                      NaN             NaN      0   \n",
              "1    1458364125608755203  新潟　東京　福岡　長崎　ロシア（南クリル諸島）             NaN      0   \n",
              "2    1458364125608755203  新潟　東京　福岡　長崎　ロシア（南クリル諸島）             NaN      0   \n",
              "3                    NaN                 The Land             NaN      1   \n",
              "4                    NaN          London, England             NaN      1   \n",
              "\n",
              "  bot_status bot_del_tupel  \n",
              "0          0        (0, 0)  \n",
              "1          0        (0, 0)  \n",
              "2          0        (0, 0)  \n",
              "3          0        (0, 1)  \n",
              "4          0        (0, 1)  \n",
              "\n",
              "[5 rows x 43 columns]"
            ],
            "text/html": [
              "\n",
              "  <div id=\"df-535d0506-9e4b-4444-9007-c93ca4c6a3d1\" class=\"colab-df-container\">\n",
              "    <div>\n",
              "<style scoped>\n",
              "    .dataframe tbody tr th:only-of-type {\n",
              "        vertical-align: middle;\n",
              "    }\n",
              "\n",
              "    .dataframe tbody tr th {\n",
              "        vertical-align: top;\n",
              "    }\n",
              "\n",
              "    .dataframe thead th {\n",
              "        text-align: right;\n",
              "    }\n",
              "</style>\n",
              "<table border=\"1\" class=\"dataframe\">\n",
              "  <thead>\n",
              "    <tr style=\"text-align: right;\">\n",
              "      <th></th>\n",
              "      <th>id</th>\n",
              "      <th>created_at</th>\n",
              "      <th>text</th>\n",
              "      <th>author_id</th>\n",
              "      <th>context_annotations</th>\n",
              "      <th>lang</th>\n",
              "      <th>reply_settings</th>\n",
              "      <th>referenced_tweets</th>\n",
              "      <th>conversation_id</th>\n",
              "      <th>in_reply_to_user_id</th>\n",
              "      <th>...</th>\n",
              "      <th>profile_image_url_author</th>\n",
              "      <th>username_author</th>\n",
              "      <th>verified_author</th>\n",
              "      <th>entities_author</th>\n",
              "      <th>pinned_tweet_id_author</th>\n",
              "      <th>location_author</th>\n",
              "      <th>withheld_author</th>\n",
              "      <th>status</th>\n",
              "      <th>bot_status</th>\n",
              "      <th>bot_del_tupel</th>\n",
              "    </tr>\n",
              "  </thead>\n",
              "  <tbody>\n",
              "    <tr>\n",
              "      <th>0</th>\n",
              "      <td>1488409670985342976</td>\n",
              "      <td>2022-02-01 07:11:33+00:00</td>\n",
              "      <td>RT @marylin45277502: Bravo Russia. Zionists ar...</td>\n",
              "      <td>1403385555522568192</td>\n",
              "      <td>[{'domain': {'id': '67', 'name': 'Interests an...</td>\n",
              "      <td>en</td>\n",
              "      <td>everyone</td>\n",
              "      <td>[{'type': 'retweeted', 'id': '1488233560343519...</td>\n",
              "      <td>1488409670985342976</td>\n",
              "      <td>NaN</td>\n",
              "      <td>...</td>\n",
              "      <td>https://pbs.twimg.com/profile_images/145772126...</td>\n",
              "      <td>2K2CxBg235TwT8H</td>\n",
              "      <td>False</td>\n",
              "      <td>NaN</td>\n",
              "      <td>NaN</td>\n",
              "      <td>NaN</td>\n",
              "      <td>NaN</td>\n",
              "      <td>0</td>\n",
              "      <td>0</td>\n",
              "      <td>(0, 0)</td>\n",
              "    </tr>\n",
              "    <tr>\n",
              "      <th>1</th>\n",
              "      <td>1488519264965632000</td>\n",
              "      <td>2022-02-01 14:27:02+00:00</td>\n",
              "      <td>@SarahMacFCDO @NATO @trussliz Does it mean tha...</td>\n",
              "      <td>131222694</td>\n",
              "      <td>[{'domain': {'id': '88', 'name': 'Political Bo...</td>\n",
              "      <td>en</td>\n",
              "      <td>everyone</td>\n",
              "      <td>[{'type': 'replied_to', 'id': '148843635517684...</td>\n",
              "      <td>1488436355176841216</td>\n",
              "      <td>1.194610e+18</td>\n",
              "      <td>...</td>\n",
              "      <td>https://pbs.twimg.com/profile_images/154279417...</td>\n",
              "      <td>boriskulikov83</td>\n",
              "      <td>False</td>\n",
              "      <td>{'description': {'hashtags': [{'start': 93, 'e...</td>\n",
              "      <td>1458364125608755203</td>\n",
              "      <td>新潟　東京　福岡　長崎　ロシア（南クリル諸島）</td>\n",
              "      <td>NaN</td>\n",
              "      <td>0</td>\n",
              "      <td>0</td>\n",
              "      <td>(0, 0)</td>\n",
              "    </tr>\n",
              "    <tr>\n",
              "      <th>2</th>\n",
              "      <td>1488722144221556736</td>\n",
              "      <td>2022-02-02 03:53:12+00:00</td>\n",
              "      <td>@jensstoltenberg @SecBlinken @RauZbigniew @Jos...</td>\n",
              "      <td>131222694</td>\n",
              "      <td>[{'domain': {'id': '10', 'name': 'Person', 'de...</td>\n",
              "      <td>en</td>\n",
              "      <td>everyone</td>\n",
              "      <td>[{'type': 'replied_to', 'id': '148862016316767...</td>\n",
              "      <td>1488620163167670272</td>\n",
              "      <td>2.079607e+07</td>\n",
              "      <td>...</td>\n",
              "      <td>https://pbs.twimg.com/profile_images/154279417...</td>\n",
              "      <td>boriskulikov83</td>\n",
              "      <td>False</td>\n",
              "      <td>{'description': {'hashtags': [{'start': 93, 'e...</td>\n",
              "      <td>1458364125608755203</td>\n",
              "      <td>新潟　東京　福岡　長崎　ロシア（南クリル諸島）</td>\n",
              "      <td>NaN</td>\n",
              "      <td>0</td>\n",
              "      <td>0</td>\n",
              "      <td>(0, 0)</td>\n",
              "    </tr>\n",
              "    <tr>\n",
              "      <th>3</th>\n",
              "      <td>1488778932396732416</td>\n",
              "      <td>2022-02-02 07:38:52+00:00</td>\n",
              "      <td>#StandWithRussia 🇷🇺🪖💪🏼</td>\n",
              "      <td>1455721787090743296</td>\n",
              "      <td>NaN</td>\n",
              "      <td>und</td>\n",
              "      <td>everyone</td>\n",
              "      <td>NaN</td>\n",
              "      <td>1488778932396732416</td>\n",
              "      <td>NaN</td>\n",
              "      <td>...</td>\n",
              "      <td>https://pbs.twimg.com/profile_images/153765746...</td>\n",
              "      <td>ussygussy369</td>\n",
              "      <td>False</td>\n",
              "      <td>NaN</td>\n",
              "      <td>NaN</td>\n",
              "      <td>The Land</td>\n",
              "      <td>NaN</td>\n",
              "      <td>1</td>\n",
              "      <td>0</td>\n",
              "      <td>(0, 1)</td>\n",
              "    </tr>\n",
              "    <tr>\n",
              "      <th>4</th>\n",
              "      <td>1488959106962669568</td>\n",
              "      <td>2022-02-02 19:34:49+00:00</td>\n",
              "      <td>.@mfa_russia is right to mock @BorisJohnson an...</td>\n",
              "      <td>14109618</td>\n",
              "      <td>[{'domain': {'id': '10', 'name': 'Person', 'de...</td>\n",
              "      <td>en</td>\n",
              "      <td>everyone</td>\n",
              "      <td>NaN</td>\n",
              "      <td>1488959106962669568</td>\n",
              "      <td>NaN</td>\n",
              "      <td>...</td>\n",
              "      <td>https://pbs.twimg.com/profile_images/68370635/...</td>\n",
              "      <td>sengeezer</td>\n",
              "      <td>False</td>\n",
              "      <td>{'url': {'urls': [{'start': 0, 'end': 23, 'url...</td>\n",
              "      <td>NaN</td>\n",
              "      <td>London, England</td>\n",
              "      <td>NaN</td>\n",
              "      <td>1</td>\n",
              "      <td>0</td>\n",
              "      <td>(0, 1)</td>\n",
              "    </tr>\n",
              "  </tbody>\n",
              "</table>\n",
              "<p>5 rows × 43 columns</p>\n",
              "</div>\n",
              "    <div class=\"colab-df-buttons\">\n",
              "\n",
              "  <div class=\"colab-df-container\">\n",
              "    <button class=\"colab-df-convert\" onclick=\"convertToInteractive('df-535d0506-9e4b-4444-9007-c93ca4c6a3d1')\"\n",
              "            title=\"Convert this dataframe to an interactive table.\"\n",
              "            style=\"display:none;\">\n",
              "\n",
              "  <svg xmlns=\"http://www.w3.org/2000/svg\" height=\"24px\" viewBox=\"0 -960 960 960\">\n",
              "    <path d=\"M120-120v-720h720v720H120Zm60-500h600v-160H180v160Zm220 220h160v-160H400v160Zm0 220h160v-160H400v160ZM180-400h160v-160H180v160Zm440 0h160v-160H620v160ZM180-180h160v-160H180v160Zm440 0h160v-160H620v160Z\"/>\n",
              "  </svg>\n",
              "    </button>\n",
              "\n",
              "  <style>\n",
              "    .colab-df-container {\n",
              "      display:flex;\n",
              "      gap: 12px;\n",
              "    }\n",
              "\n",
              "    .colab-df-convert {\n",
              "      background-color: #E8F0FE;\n",
              "      border: none;\n",
              "      border-radius: 50%;\n",
              "      cursor: pointer;\n",
              "      display: none;\n",
              "      fill: #1967D2;\n",
              "      height: 32px;\n",
              "      padding: 0 0 0 0;\n",
              "      width: 32px;\n",
              "    }\n",
              "\n",
              "    .colab-df-convert:hover {\n",
              "      background-color: #E2EBFA;\n",
              "      box-shadow: 0px 1px 2px rgba(60, 64, 67, 0.3), 0px 1px 3px 1px rgba(60, 64, 67, 0.15);\n",
              "      fill: #174EA6;\n",
              "    }\n",
              "\n",
              "    .colab-df-buttons div {\n",
              "      margin-bottom: 4px;\n",
              "    }\n",
              "\n",
              "    [theme=dark] .colab-df-convert {\n",
              "      background-color: #3B4455;\n",
              "      fill: #D2E3FC;\n",
              "    }\n",
              "\n",
              "    [theme=dark] .colab-df-convert:hover {\n",
              "      background-color: #434B5C;\n",
              "      box-shadow: 0px 1px 3px 1px rgba(0, 0, 0, 0.15);\n",
              "      filter: drop-shadow(0px 1px 2px rgba(0, 0, 0, 0.3));\n",
              "      fill: #FFFFFF;\n",
              "    }\n",
              "  </style>\n",
              "\n",
              "    <script>\n",
              "      const buttonEl =\n",
              "        document.querySelector('#df-535d0506-9e4b-4444-9007-c93ca4c6a3d1 button.colab-df-convert');\n",
              "      buttonEl.style.display =\n",
              "        google.colab.kernel.accessAllowed ? 'block' : 'none';\n",
              "\n",
              "      async function convertToInteractive(key) {\n",
              "        const element = document.querySelector('#df-535d0506-9e4b-4444-9007-c93ca4c6a3d1');\n",
              "        const dataTable =\n",
              "          await google.colab.kernel.invokeFunction('convertToInteractive',\n",
              "                                                    [key], {});\n",
              "        if (!dataTable) return;\n",
              "\n",
              "        const docLinkHtml = 'Like what you see? Visit the ' +\n",
              "          '<a target=\"_blank\" href=https://colab.research.google.com/notebooks/data_table.ipynb>data table notebook</a>'\n",
              "          + ' to learn more about interactive tables.';\n",
              "        element.innerHTML = '';\n",
              "        dataTable['output_type'] = 'display_data';\n",
              "        await google.colab.output.renderOutput(dataTable, element);\n",
              "        const docLink = document.createElement('div');\n",
              "        docLink.innerHTML = docLinkHtml;\n",
              "        element.appendChild(docLink);\n",
              "      }\n",
              "    </script>\n",
              "  </div>\n",
              "\n",
              "\n",
              "<div id=\"df-82bfea7f-08b3-4f45-ae93-404e589da4f2\">\n",
              "  <button class=\"colab-df-quickchart\" onclick=\"quickchart('df-82bfea7f-08b3-4f45-ae93-404e589da4f2')\"\n",
              "            title=\"Suggest charts.\"\n",
              "            style=\"display:none;\">\n",
              "\n",
              "<svg xmlns=\"http://www.w3.org/2000/svg\" height=\"24px\"viewBox=\"0 0 24 24\"\n",
              "     width=\"24px\">\n",
              "    <g>\n",
              "        <path d=\"M19 3H5c-1.1 0-2 .9-2 2v14c0 1.1.9 2 2 2h14c1.1 0 2-.9 2-2V5c0-1.1-.9-2-2-2zM9 17H7v-7h2v7zm4 0h-2V7h2v10zm4 0h-2v-4h2v4z\"/>\n",
              "    </g>\n",
              "</svg>\n",
              "  </button>\n",
              "\n",
              "<style>\n",
              "  .colab-df-quickchart {\n",
              "      --bg-color: #E8F0FE;\n",
              "      --fill-color: #1967D2;\n",
              "      --hover-bg-color: #E2EBFA;\n",
              "      --hover-fill-color: #174EA6;\n",
              "      --disabled-fill-color: #AAA;\n",
              "      --disabled-bg-color: #DDD;\n",
              "  }\n",
              "\n",
              "  [theme=dark] .colab-df-quickchart {\n",
              "      --bg-color: #3B4455;\n",
              "      --fill-color: #D2E3FC;\n",
              "      --hover-bg-color: #434B5C;\n",
              "      --hover-fill-color: #FFFFFF;\n",
              "      --disabled-bg-color: #3B4455;\n",
              "      --disabled-fill-color: #666;\n",
              "  }\n",
              "\n",
              "  .colab-df-quickchart {\n",
              "    background-color: var(--bg-color);\n",
              "    border: none;\n",
              "    border-radius: 50%;\n",
              "    cursor: pointer;\n",
              "    display: none;\n",
              "    fill: var(--fill-color);\n",
              "    height: 32px;\n",
              "    padding: 0;\n",
              "    width: 32px;\n",
              "  }\n",
              "\n",
              "  .colab-df-quickchart:hover {\n",
              "    background-color: var(--hover-bg-color);\n",
              "    box-shadow: 0 1px 2px rgba(60, 64, 67, 0.3), 0 1px 3px 1px rgba(60, 64, 67, 0.15);\n",
              "    fill: var(--button-hover-fill-color);\n",
              "  }\n",
              "\n",
              "  .colab-df-quickchart-complete:disabled,\n",
              "  .colab-df-quickchart-complete:disabled:hover {\n",
              "    background-color: var(--disabled-bg-color);\n",
              "    fill: var(--disabled-fill-color);\n",
              "    box-shadow: none;\n",
              "  }\n",
              "\n",
              "  .colab-df-spinner {\n",
              "    border: 2px solid var(--fill-color);\n",
              "    border-color: transparent;\n",
              "    border-bottom-color: var(--fill-color);\n",
              "    animation:\n",
              "      spin 1s steps(1) infinite;\n",
              "  }\n",
              "\n",
              "  @keyframes spin {\n",
              "    0% {\n",
              "      border-color: transparent;\n",
              "      border-bottom-color: var(--fill-color);\n",
              "      border-left-color: var(--fill-color);\n",
              "    }\n",
              "    20% {\n",
              "      border-color: transparent;\n",
              "      border-left-color: var(--fill-color);\n",
              "      border-top-color: var(--fill-color);\n",
              "    }\n",
              "    30% {\n",
              "      border-color: transparent;\n",
              "      border-left-color: var(--fill-color);\n",
              "      border-top-color: var(--fill-color);\n",
              "      border-right-color: var(--fill-color);\n",
              "    }\n",
              "    40% {\n",
              "      border-color: transparent;\n",
              "      border-right-color: var(--fill-color);\n",
              "      border-top-color: var(--fill-color);\n",
              "    }\n",
              "    60% {\n",
              "      border-color: transparent;\n",
              "      border-right-color: var(--fill-color);\n",
              "    }\n",
              "    80% {\n",
              "      border-color: transparent;\n",
              "      border-right-color: var(--fill-color);\n",
              "      border-bottom-color: var(--fill-color);\n",
              "    }\n",
              "    90% {\n",
              "      border-color: transparent;\n",
              "      border-bottom-color: var(--fill-color);\n",
              "    }\n",
              "  }\n",
              "</style>\n",
              "\n",
              "  <script>\n",
              "    async function quickchart(key) {\n",
              "      const quickchartButtonEl =\n",
              "        document.querySelector('#' + key + ' button');\n",
              "      quickchartButtonEl.disabled = true;  // To prevent multiple clicks.\n",
              "      quickchartButtonEl.classList.add('colab-df-spinner');\n",
              "      try {\n",
              "        const charts = await google.colab.kernel.invokeFunction(\n",
              "            'suggestCharts', [key], {});\n",
              "      } catch (error) {\n",
              "        console.error('Error during call to suggestCharts:', error);\n",
              "      }\n",
              "      quickchartButtonEl.classList.remove('colab-df-spinner');\n",
              "      quickchartButtonEl.classList.add('colab-df-quickchart-complete');\n",
              "    }\n",
              "    (() => {\n",
              "      let quickchartButtonEl =\n",
              "        document.querySelector('#df-82bfea7f-08b3-4f45-ae93-404e589da4f2 button');\n",
              "      quickchartButtonEl.style.display =\n",
              "        google.colab.kernel.accessAllowed ? 'block' : 'none';\n",
              "    })();\n",
              "  </script>\n",
              "</div>\n",
              "    </div>\n",
              "  </div>\n"
            ]
          },
          "metadata": {},
          "execution_count": 93
        }
      ]
    },
    {
      "cell_type": "markdown",
      "source": [
        "#Plot for Bot feature"
      ],
      "metadata": {
        "id": "0QwkSzi8C9Rk"
      }
    },
    {
      "cell_type": "code",
      "execution_count": null,
      "metadata": {
        "id": "G2PWYLQfd38-"
      },
      "outputs": [],
      "source": [
        "newdf.loc[: , ['id','bot_status', 'status','bot_del_tupel']]"
      ]
    },
    {
      "cell_type": "code",
      "execution_count": null,
      "metadata": {
        "id": "HFfD7rV9d63_"
      },
      "outputs": [],
      "source": [
        "print('Not Bot, Not Deleted: ' + str(len(newdf[newdf['bot_del_tupel']==(0,0)])))\n",
        "print('Bot, Not Deleted: ' + str(len(newdf[newdf['bot_del_tupel']==(1,0)])))\n",
        "print('Not Bot, Deleted: ' + str(len(newdf[newdf['bot_del_tupel']==(0,1)])))\n",
        "print('Bot, Deleted: ' + str(len(newdf[newdf['bot_del_tupel']==(1,1)])))"
      ]
    },
    {
      "cell_type": "code",
      "execution_count": 184,
      "metadata": {
        "colab": {
          "base_uri": "https://localhost:8080/",
          "height": 452
        },
        "id": "v1NVKeeneAaq",
        "outputId": "5d06eee3-5e69-4429-a580-dfa2e8b95191"
      },
      "outputs": [
        {
          "output_type": "display_data",
          "data": {
            "text/plain": [
              "<Figure size 640x480 with 1 Axes>"
            ],
            "image/png": "[encoded data removed]"
          },
          "metadata": {}
        }
      ],
      "source": [
        "#create plot to proof/ disproof first thought about bot/deleted (Total amount of tweets)\n",
        "bot_status = ('Not-Bot', 'Bot')\n",
        "deleted_status = {\n",
        "    'Deleted': np.array([len(newdf[newdf['bot_del_tupel']==(0,1)]), len(newdf[newdf['bot_del_tupel']==(1,1)])]),\n",
        "    'Non-Deleted': np.array([len(newdf[newdf['bot_del_tupel']==(0,0)]), len(newdf[newdf['bot_del_tupel']==(1,0)])]),\n",
        "}\n",
        "width = 0.5  # the width of the bars: can also be len(x) sequence\n",
        "\n",
        "\n",
        "fig, ax = plt.subplots()\n",
        "bottom = np.zeros(2)\n",
        "\n",
        "for bot, del_count in deleted_status.items():\n",
        "    p = ax.bar(bot_status, del_count, width, label=bot, bottom=bottom)\n",
        "    bottom += del_count\n",
        "\n",
        "    ax.bar_label(p, label_type='center')\n",
        "\n",
        "ax.set_title('Tweets and their \\\"Deleted/Bot-Status\\\"')\n",
        "ax.legend()\n",
        "\n",
        "plt.show()"
      ]
    },
    {
      "cell_type": "code",
      "execution_count": 185,
      "metadata": {
        "id": "74viWIkqeOj-"
      },
      "outputs": [],
      "source": [
        "#Calculate percantages\n",
        "bd_val = len(newdf[newdf['bot_del_tupel']==(1,1)])\n",
        "nd_val = len(newdf[newdf['bot_del_tupel']==(0,1)])\n",
        "bn_val = len(newdf[newdf['bot_del_tupel']==(1,0)])\n",
        "nn_val = len(newdf[newdf['bot_del_tupel']==(0,0)])\n",
        "\n",
        "total_bot = bd_val + bn_val\n",
        "total_notbot = nd_val + nn_val\n",
        "\n",
        "per_bd_val = bd_val/total_bot\n",
        "per_nd_val = nd_val/total_notbot\n",
        "per_bn_val = bn_val/total_bot\n",
        "per_nn_val = nn_val/total_notbot"
      ]
    },
    {
      "cell_type": "code",
      "execution_count": 186,
      "metadata": {
        "colab": {
          "base_uri": "https://localhost:8080/",
          "height": 452
        },
        "id": "ERHFBTGKeUWy",
        "outputId": "ae887803-294e-4324-9820-4020b8aa67c1"
      },
      "outputs": [
        {
          "output_type": "display_data",
          "data": {
            "text/plain": [
              "<Figure size 640x480 with 1 Axes>"
            ],
            "image/png": "[encoded data removed]"
          },
          "metadata": {}
        }
      ],
      "source": [
        "#create plot to proof/ disproof first thought about bot/deleted (Percentage of tweets)\n",
        "bot_status = ('Bot', 'Not-Bot')\n",
        "\n",
        "deleted_status = {\n",
        "    'Deleted': np.array([per_bd_val , per_nd_val]),\n",
        "    'Non-Deleted': np.array([per_bn_val, per_nn_val]),\n",
        "}\n",
        "width = 0.5  # the width of the bars: can also be len(x) sequence\n",
        "\n",
        "\n",
        "fig, ax = plt.subplots()\n",
        "bottom = np.zeros(2)\n",
        "\n",
        "for bot, del_count in deleted_status.items():\n",
        "    p = ax.bar(bot_status, del_count, width, label=bot, bottom=bottom)\n",
        "    bottom += del_count\n",
        "\n",
        "    ax.bar_label (p,label_type='center', fmt='%g')\n",
        "\n",
        "plt.ylabel('Percentage of Tweets')\n",
        "\n",
        "ax.set_title('Tweets and their \\\"Deleted/Bot-Status\\\"')\n",
        "ax.legend()\n",
        "\n",
        "plt.show()"
      ]
    },
    {
      "cell_type": "markdown",
      "source": [
        "# Machine Learning Part (Preprocessing and 4 Classifiers)"
      ],
      "metadata": {
        "id": "6RX5J-vXDkfS"
      }
    },
    {
      "cell_type": "code",
      "execution_count": 94,
      "metadata": {
        "colab": {
          "base_uri": "https://localhost:8080/"
        },
        "id": "ve9fQxosfUrn",
        "outputId": "184e16b0-6fc0-44f9-d128-32a2dbae0c2d"
      },
      "outputs": [
        {
          "output_type": "stream",
          "name": "stderr",
          "text": [
            "[nltk_data] Downloading package stopwords to /root/nltk_data...\n",
            "[nltk_data]   Package stopwords is already up-to-date!\n",
            "[nltk_data] Downloading package wordnet to /root/nltk_data...\n",
            "[nltk_data]   Package wordnet is already up-to-date!\n"
          ]
        },
        {
          "output_type": "execute_result",
          "data": {
            "text/plain": [
              "True"
            ]
          },
          "metadata": {},
          "execution_count": 94
        }
      ],
      "source": [
        "nltk.download('stopwords')\n",
        "nltk.download('wordnet')"
      ]
    },
    {
      "cell_type": "code",
      "execution_count": 95,
      "metadata": {
        "id": "FftrTsbXPqjA"
      },
      "outputs": [],
      "source": [
        "def convert_hashtags(frame_input):\n",
        "  #for i in frame_input:\n",
        "    hashtag_array = []\n",
        "    #print(frame_input)\n",
        "    for m in frame_input:\n",
        "      text = re.sub(r'start', '', str(m))\n",
        "      text = re.sub(r'end', '', text)\n",
        "      text = re.sub(r'tag', '', text)\n",
        "      text = text.split(\":\")\n",
        "      text = re.sub(r'}', '', text[3])\n",
        "      text = re.sub(r'\\'', '', text)\n",
        "      text = re.sub(r' ', '', text)\n",
        "      hashtag_array.append(text)\n",
        "    return(hashtag_array)"
      ]
    },
    {
      "cell_type": "code",
      "source": [
        "def convert_time(input):\n",
        "    text = re.sub(r'-', ' ', str(input))\n",
        "    text = re.sub(r':', ' ', text)\n",
        "    text = re.sub(r'\\+', '', text)\n",
        "    text = re.sub(r' ', '', text)\n",
        "    return float('0' + '.'  + str(text))"
      ],
      "metadata": {
        "id": "zJlfCVU4Xvpj"
      },
      "execution_count": 96,
      "outputs": []
    },
    {
      "cell_type": "code",
      "source": [
        "def convert_time_author(input):\n",
        "    text = re.sub(r'-', ' ', str(input))\n",
        "    text = re.sub(r':', ' ', text)\n",
        "    text = re.sub(r'\\+', '', text)\n",
        "    text = re.sub(r' ', '', text)\n",
        "    text = re.sub(r'T', '', text)\n",
        "    text = re.sub(r'Z', '', text)\n",
        "    text = text[:-4]\n",
        "\n",
        "    return float('0' + '.'  + str(text))"
      ],
      "metadata": {
        "id": "0o1Un5h1LaNG"
      },
      "execution_count": 97,
      "outputs": []
    },
    {
      "cell_type": "code",
      "source": [
        "def convert_verified(input):\n",
        "  if input == False:\n",
        "    return 0\n",
        "  elif input == True:\n",
        "    return 1\n",
        "  else:\n",
        "    return 'Error'"
      ],
      "metadata": {
        "id": "bssuG8tSjtko"
      },
      "execution_count": 98,
      "outputs": []
    },
    {
      "cell_type": "code",
      "execution_count": 99,
      "metadata": {
        "colab": {
          "base_uri": "https://localhost:8080/"
        },
        "id": "_2qyCyWzGBQX",
        "outputId": "6ca7cf40-73fc-4589-d824-f1ac10189236"
      },
      "outputs": [
        {
          "output_type": "stream",
          "name": "stdout",
          "text": [
            "['id', 'created_at', 'text', 'author_id', 'context_annotations', 'lang', 'reply_settings', 'referenced_tweets', 'conversation_id', 'in_reply_to_user_id', 'in_reply_to_user', 'attachments', 'geo', 'bot', 'majority_lang', 'bot_score', 'mentions', 'hashtags', 'annotations', 'urls', 'translated', 'tag', 'retweet_count', 'reply_count', 'like_count', 'quote_count', 'public_metrics_author', 'url_author', 'id_author', 'protected_author', 'created_at_author', 'name_author', 'description_author', 'profile_image_url_author', 'username_author', 'verified_author', 'entities_author', 'pinned_tweet_id_author', 'location_author', 'withheld_author', 'status', 'bot_status', 'bot_del_tupel']\n"
          ]
        }
      ],
      "source": [
        "print(list(newdf))"
      ]
    },
    {
      "cell_type": "code",
      "source": [
        "#Y Value for classifier models\n",
        "Y = newdf['status'].to_numpy()\n",
        "print(Y.shape)"
      ],
      "metadata": {
        "colab": {
          "base_uri": "https://localhost:8080/"
        },
        "id": "ct-fBELsesGt",
        "outputId": "19253add-e6ff-4294-cd47-0efa7e2fcef3"
      },
      "execution_count": 100,
      "outputs": [
        {
          "output_type": "stream",
          "name": "stdout",
          "text": [
            "(11665,)\n"
          ]
        }
      ]
    },
    {
      "cell_type": "code",
      "execution_count": 101,
      "metadata": {
        "id": "v7jcJQKNVwvu"
      },
      "outputs": [],
      "source": [
        "#Select these 8 features for our models\n",
        "newdf = newdf.loc[:, ['text', 'created_at','hashtags','retweet_count','reply_count', 'like_count','description_author','verified_author', 'bot_status', 'created_at_author']]"
      ]
    },
    {
      "cell_type": "code",
      "source": [
        "print(convert_time_author(newdf['created_at_author'][1]))"
      ],
      "metadata": {
        "colab": {
          "base_uri": "https://localhost:8080/"
        },
        "id": "XByzV4itLQRl",
        "outputId": "614e21a1-c6a7-4137-b66d-f07fa88e4059"
      },
      "execution_count": 102,
      "outputs": [
        {
          "output_type": "stream",
          "name": "stdout",
          "text": [
            "0.20100409165501\n"
          ]
        }
      ]
    },
    {
      "cell_type": "code",
      "source": [
        "newdf.hashtags.ffill(inplace = True)\n",
        "newdf['hashtags'] = newdf['hashtags'].apply(convert_hashtags)"
      ],
      "metadata": {
        "id": "veZrFtSjpqpN"
      },
      "execution_count": 103,
      "outputs": []
    },
    {
      "cell_type": "code",
      "source": [
        "#newdf.shape"
      ],
      "metadata": {
        "id": "wU-gxv5eun8d"
      },
      "execution_count": 104,
      "outputs": []
    },
    {
      "cell_type": "code",
      "source": [
        "#Store feature we need to vectorize in a new dataframe\n",
        "vectorizedf = newdf.loc[:, ['text', 'hashtags', 'description_author']]\n",
        "#vectorizedf.head()"
      ],
      "metadata": {
        "id": "cdflSi0XMh4Y"
      },
      "execution_count": 105,
      "outputs": []
    },
    {
      "cell_type": "code",
      "execution_count": 106,
      "metadata": {
        "colab": {
          "base_uri": "https://localhost:8080/"
        },
        "id": "MuInsn3zbiXg",
        "outputId": "0f2562d3-d88b-4e07-8041-c13113203d03"
      },
      "outputs": [
        {
          "output_type": "stream",
          "name": "stdout",
          "text": [
            "['text', 'created_at', 'hashtags', 'retweet_count', 'reply_count', 'like_count', 'description_author', 'verified_author', 'bot_status', 'created_at_author']\n",
            "['text', 'hashtags', 'description_author']\n"
          ]
        }
      ],
      "source": [
        "#print features of dataframes\n",
        "print(list(newdf))\n",
        "print(list(vectorizedf))"
      ]
    },
    {
      "cell_type": "code",
      "execution_count": 107,
      "metadata": {
        "id": "uFBaJtezGE-K"
      },
      "outputs": [],
      "source": [
        "#edit the text contained in vectorizedf features to fit better into vectorizer\n",
        "\n",
        "from nltk.stem import WordNetLemmatizer\n",
        "\n",
        "def feature_totext(feature):\n",
        "\n",
        "  X = feature\n",
        "\n",
        "  texts = []\n",
        "\n",
        "  stemmer = WordNetLemmatizer()\n",
        "\n",
        "  for sen in X:\n",
        "      # Remove all the special characters\n",
        "      text = re.sub(r'\\W', ' ', str(sen))\n",
        "\n",
        "      # remove all single characters\n",
        "      text = re.sub(r'\\s+[a-zA-Z]\\s+', ' ', text)\n",
        "\n",
        "      # Remove single characters from the start\n",
        "      text = re.sub(r'\\^[a-zA-Z]\\s+', ' ', text)\n",
        "\n",
        "      # Substituting multiple spaces with single space\n",
        "      text = re.sub(r'\\s+', ' ', text, flags=re.I)\n",
        "\n",
        "      # Removing prefixed 'b'\n",
        "      text = re.sub(r'^b\\s+', '', text)\n",
        "\n",
        "      # Converting to Lowercase\n",
        "      text = text.lower()\n",
        "\n",
        "      # Lemmatization\n",
        "      text = text.split()\n",
        "\n",
        "      text = [stemmer.lemmatize(word) for word in text]\n",
        "      text = ' '.join(text)\n",
        "\n",
        "      texts.append(text)\n",
        "\n",
        "\n",
        "\n",
        "  return texts"
      ]
    },
    {
      "cell_type": "code",
      "execution_count": 108,
      "metadata": {
        "colab": {
          "base_uri": "https://localhost:8080/"
        },
        "id": "RU-RayaKyfBJ",
        "outputId": "3074b8e7-6996-47a0-8d0b-020225ec5dfa"
      },
      "outputs": [
        {
          "output_type": "stream",
          "name": "stdout",
          "text": [
            "(11665, 1500)\n",
            "(11665, 541)\n",
            "(11665, 1500)\n",
            "(11665, 3541)\n",
            "(11665, 3541)\n"
          ]
        }
      ],
      "source": [
        "#vectorize data and add to numpy array\n",
        "\n",
        "from sklearn.feature_extraction.text import CountVectorizer\n",
        "from sklearn.feature_extraction.text import TfidfTransformer\n",
        "\n",
        "list_input = []\n",
        "\n",
        "for i in vectorizedf:\n",
        "\n",
        "  m = feature_totext(vectorizedf[i])\n",
        "  #print(m)\n",
        "\n",
        "  vectorizer = CountVectorizer(max_features=1500, min_df=4, max_df=0.9, stop_words=stopwords.words('english'))\n",
        "  X = vectorizer.fit_transform(m).toarray()\n",
        "\n",
        "  tfidfconverter = TfidfTransformer()\n",
        "  X = tfidfconverter.fit_transform(X).toarray()\n",
        "\n",
        "  list_input.append(X)\n",
        "\n",
        "  print(X.shape)\n",
        "\n",
        "\n",
        "data_numpy = np.concatenate(list_input, axis = 1)\n",
        "X = data_numpy\n",
        "\n",
        "print(data_numpy.shape)\n",
        "print(X.shape)"
      ]
    },
    {
      "cell_type": "code",
      "source": [
        "#get the values of the rest of newdf which did not get vectorized\n",
        "\n",
        "like_count_array = newdf['like_count'].to_numpy()\n",
        "like_count_array = like_count_array[:, np.newaxis]\n",
        "print(like_count_array.shape)\n",
        "print(like_count_array)\n",
        "\n",
        "rt_count_array = newdf['retweet_count'].to_numpy()\n",
        "rt_count_array = rt_count_array[:, np.newaxis]\n",
        "print(rt_count_array.shape)\n",
        "print(rt_count_array)\n",
        "\n",
        "reply_count_array = newdf['reply_count'].to_numpy()\n",
        "reply_count_array = reply_count_array[:, np.newaxis]\n",
        "print(reply_count_array.shape)\n",
        "print(reply_count_array)\n",
        "\n",
        "newdf['created_at'] = newdf['created_at'].apply(convert_time)\n",
        "created_array = newdf['created_at'].to_numpy()\n",
        "created_array = created_array[:, np.newaxis]\n",
        "print(created_array.shape)\n",
        "print(created_array)\n",
        "\n",
        "newdf['created_at_author'] = newdf['created_at_author'].apply(convert_time_author)\n",
        "created_author_array = newdf['created_at_author'].to_numpy()\n",
        "created_author_array = created_author_array[:, np.newaxis]\n",
        "print(created_author_array.shape)\n",
        "print(created_author_array)\n",
        "\n",
        "\n",
        "newdf['verified_author'] = newdf['verified_author'].apply(convert_verified)\n",
        "verified_array = newdf['verified_author'].to_numpy()\n",
        "verified_array = verified_array[:, np.newaxis]\n",
        "print(verified_array.shape)\n",
        "print(verified_array)\n",
        "\n",
        "bot_array = newdf['bot_status'].to_numpy()\n",
        "bot_array = bot_array[:, np.newaxis]\n",
        "print(bot_array.shape)\n",
        "print(bot_array)"
      ],
      "metadata": {
        "colab": {
          "base_uri": "https://localhost:8080/"
        },
        "id": "Nv82znEXZFOd",
        "outputId": "e47f98a9-0456-426c-8f77-5653620c353f"
      },
      "execution_count": 109,
      "outputs": [
        {
          "output_type": "stream",
          "name": "stdout",
          "text": [
            "(11665, 1)\n",
            "[[0]\n",
            " [1]\n",
            " [0]\n",
            " ...\n",
            " [0]\n",
            " [0]\n",
            " [0]]\n",
            "(11665, 1)\n",
            "[[ 4]\n",
            " [ 0]\n",
            " [ 0]\n",
            " ...\n",
            " [98]\n",
            " [ 0]\n",
            " [ 0]]\n",
            "(11665, 1)\n",
            "[[0]\n",
            " [0]\n",
            " [0]\n",
            " ...\n",
            " [0]\n",
            " [0]\n",
            " [0]]\n",
            "(11665, 1)\n",
            "[[0.20220201]\n",
            " [0.20220201]\n",
            " [0.20220202]\n",
            " ...\n",
            " [0.20220228]\n",
            " [0.20220228]\n",
            " [0.20220228]]\n",
            "(11665, 1)\n",
            "[[0.20210611]\n",
            " [0.20100409]\n",
            " [0.20100409]\n",
            " ...\n",
            " [0.2014021 ]\n",
            " [0.20180906]\n",
            " [0.20110521]]\n",
            "(11665, 1)\n",
            "[[0]\n",
            " [0]\n",
            " [0]\n",
            " ...\n",
            " [0]\n",
            " [0]\n",
            " [0]]\n",
            "(11665, 1)\n",
            "[[0]\n",
            " [0]\n",
            " [0]\n",
            " ...\n",
            " [1]\n",
            " [0]\n",
            " [0]]\n"
          ]
        }
      ]
    },
    {
      "cell_type": "code",
      "source": [
        "#concat all numpy arrays of vectorized features and the rest\n",
        "from sklearn.decomposition import PCA\n",
        "#pca = PCA(n_components=2)\n",
        "#reduced_data = pca.fit_transform(X)\n",
        "\n",
        "joined_array = np.concatenate((X, like_count_array, rt_count_array, reply_count_array, created_array, verified_array, bot_array, created_author_array), axis = 1)\n",
        "joined_array.shape"
      ],
      "metadata": {
        "colab": {
          "base_uri": "https://localhost:8080/"
        },
        "id": "jAn3XxGCZWqb",
        "outputId": "97305522-e2f8-4322-d8e4-f5f12ad92144"
      },
      "execution_count": 111,
      "outputs": [
        {
          "output_type": "execute_result",
          "data": {
            "text/plain": [
              "(11665, 3548)"
            ]
          },
          "metadata": {},
          "execution_count": 111
        }
      ]
    },
    {
      "cell_type": "code",
      "source": [
        "#Set X for classifier models\n",
        "\n",
        "X = joined_array"
      ],
      "metadata": {
        "id": "SbPyQl4cZums"
      },
      "execution_count": 112,
      "outputs": []
    },
    {
      "cell_type": "code",
      "source": [
        "#X = X[:, 1058:2058]"
      ],
      "metadata": {
        "id": "0O1owfvkk9C0"
      },
      "execution_count": 113,
      "outputs": []
    },
    {
      "cell_type": "code",
      "source": [
        "#Y value as numpy array\n",
        "Y = np.array(Y, dtype = np.int32)\n",
        "print(Y.dtype)\n",
        "print(Y.sum())"
      ],
      "metadata": {
        "colab": {
          "base_uri": "https://localhost:8080/"
        },
        "id": "o211alLlfuGX",
        "outputId": "7f6d0213-7e47-4cd9-c0c2-99f934bcfa6b"
      },
      "execution_count": 114,
      "outputs": [
        {
          "output_type": "stream",
          "name": "stdout",
          "text": [
            "int32\n",
            "10005\n"
          ]
        }
      ]
    },
    {
      "cell_type": "code",
      "source": [
        "#imports for classifiers\n",
        "from sklearn.model_selection import train_test_split\n",
        "from sklearn.ensemble import RandomForestClassifier, AdaBoostClassifier\n",
        "from sklearn.datasets import make_classification\n",
        "from sklearn.metrics import classification_report, confusion_matrix, accuracy_score, f1_score, balanced_accuracy_score\n",
        "from imblearn.over_sampling import RandomOverSampler\n",
        "from sklearn.tree import DecisionTreeClassifier\n",
        "from sklearn.preprocessing import MinMaxScaler\n",
        "from sklearn.decomposition import PCA\n",
        "from sklearn.linear_model import LogisticRegression\n",
        "from sklearn.dummy import DummyClassifier"
      ],
      "metadata": {
        "id": "xBt7Cy0HxV3k"
      },
      "execution_count": 115,
      "outputs": []
    },
    {
      "cell_type": "code",
      "source": [
        "X_train, X_test, y_train, y_test = train_test_split(X, Y, test_size=0.2, random_state=0)\n",
        "\n",
        "# Perform random oversampling but not needed for this classifier, since class_weight='balanced' parameter\n",
        "ros = RandomOverSampler(random_state=0)\n",
        "X_train_ros, y_train_ros = ros.fit_resample(X_train, y_train)"
      ],
      "metadata": {
        "id": "Y858gMLZYb1L"
      },
      "execution_count": 116,
      "outputs": []
    },
    {
      "cell_type": "code",
      "source": [
        "#DummyClassifier\n",
        "\n",
        "dummy_classifier = DummyClassifier(strategy='uniform')\n",
        "dummy_classifier.fit(X_train_ros, y_train_ros)\n",
        "\n",
        "y_pred_dummy = dummy_classifier.predict(X_test)\n",
        "\n",
        "print(confusion_matrix(y_test,y_pred_dummy))\n",
        "print(classification_report(y_test,y_pred_dummy))\n",
        "print('F1 Score: {:.0%}'.format(f1_score(y_test,y_pred_dummy)))\n",
        "print('Balanced Accuracy Score: {:.0%}'.format(balanced_accuracy_score(y_test,y_pred_dummy)))\n"
      ],
      "metadata": {
        "colab": {
          "base_uri": "https://localhost:8080/"
        },
        "outputId": "9a6001e0-7c0f-4fae-d6e6-02efe81feb67",
        "id": "QwcN1k-_Mv1B"
      },
      "execution_count": 117,
      "outputs": [
        {
          "output_type": "stream",
          "name": "stdout",
          "text": [
            "[[ 154  156]\n",
            " [1022 1001]]\n",
            "              precision    recall  f1-score   support\n",
            "\n",
            "           0       0.13      0.50      0.21       310\n",
            "           1       0.87      0.49      0.63      2023\n",
            "\n",
            "    accuracy                           0.50      2333\n",
            "   macro avg       0.50      0.50      0.42      2333\n",
            "weighted avg       0.77      0.50      0.57      2333\n",
            "\n",
            "F1 Score: 63%\n",
            "Balanced Accuracy Score: 50%\n"
          ]
        }
      ]
    },
    {
      "cell_type": "code",
      "source": [
        "#RandomForest\n",
        "\n",
        "\n",
        "RFCclassifier = RandomForestClassifier(n_estimators=1000, random_state=0)\n",
        "RFCclassifier.fit(X_train_ros, y_train_ros)\n",
        "\n",
        "y_pred_rfc = RFCclassifier.predict(X_test)\n",
        "y_pred_prob_rfc = RFCclassifier.predict_proba(X_test)\n",
        "\n",
        "print(confusion_matrix(y_test,y_pred_rfc))\n",
        "print(classification_report(y_test,y_pred_rfc))\n",
        "print('F1 Score: {:.0%}'.format(f1_score(y_test,y_pred_rfc)))\n",
        "print('Balanced Accuracy Score: {:.0%}'.format(balanced_accuracy_score(y_test,y_pred_rfc)))\n"
      ],
      "metadata": {
        "colab": {
          "base_uri": "https://localhost:8080/"
        },
        "id": "NvJLyt92eLh2",
        "outputId": "53e59a82-5bec-4325-cde5-dfa43a5c7778"
      },
      "execution_count": 118,
      "outputs": [
        {
          "output_type": "stream",
          "name": "stdout",
          "text": [
            "[[  50  260]\n",
            " [ 208 1815]]\n",
            "              precision    recall  f1-score   support\n",
            "\n",
            "           0       0.19      0.16      0.18       310\n",
            "           1       0.87      0.90      0.89      2023\n",
            "\n",
            "    accuracy                           0.80      2333\n",
            "   macro avg       0.53      0.53      0.53      2333\n",
            "weighted avg       0.78      0.80      0.79      2333\n",
            "\n",
            "F1 Score: 89%\n",
            "Balanced Accuracy Score: 53%\n"
          ]
        }
      ]
    },
    {
      "cell_type": "code",
      "source": [
        "#AdaBoost\n",
        "\n",
        "\n",
        "Adaclassifier = AdaBoostClassifier(n_estimators=250, random_state=0)\n",
        "Adaclassifier.fit(X_train_ros, y_train_ros)\n",
        "\n",
        "y_pred_ada = Adaclassifier.predict(X_test)\n",
        "y_pred_prob_ada = Adaclassifier.predict_proba(X_test)\n",
        "\n",
        "print(confusion_matrix(y_test,y_pred_ada))\n",
        "print(classification_report(y_test,y_pred_ada))\n",
        "print('F1 Score: {:.0%}'.format(f1_score(y_test,y_pred_ada)))\n",
        "print('Balanced Accuracy Score: {:.0%}'.format(balanced_accuracy_score(y_test,y_pred_ada)))\n"
      ],
      "metadata": {
        "colab": {
          "base_uri": "https://localhost:8080/"
        },
        "outputId": "380d0dac-4e87-4cae-dd56-5b5454cb0e2c",
        "id": "XDvlQDVncjxP"
      },
      "execution_count": 119,
      "outputs": [
        {
          "output_type": "stream",
          "name": "stdout",
          "text": [
            "[[ 166  144]\n",
            " [ 725 1298]]\n",
            "              precision    recall  f1-score   support\n",
            "\n",
            "           0       0.19      0.54      0.28       310\n",
            "           1       0.90      0.64      0.75      2023\n",
            "\n",
            "    accuracy                           0.63      2333\n",
            "   macro avg       0.54      0.59      0.51      2333\n",
            "weighted avg       0.81      0.63      0.69      2333\n",
            "\n",
            "F1 Score: 75%\n",
            "Balanced Accuracy Score: 59%\n"
          ]
        }
      ]
    },
    {
      "cell_type": "code",
      "source": [
        "#DecisionTree\n",
        "\n",
        "dt_classifier = DecisionTreeClassifier(random_state=0)\n",
        "dt_classifier.fit(X_train_ros, y_train_ros)\n",
        "\n",
        "y_pred_dt = dt_classifier.predict(X_test)\n",
        "y_pred_prob_dt = dt_classifier.predict_proba(X_test)\n",
        "\n",
        "print(confusion_matrix(y_test,y_pred_dt))\n",
        "print(classification_report(y_test,y_pred_dt))\n",
        "print('F1 Score: {:.0%}'.format(f1_score(y_test, y_pred_dt)))\n",
        "print('Balanced Accuracy Score: {:.0%}'.format(balanced_accuracy_score(y_test, y_pred_dt)))\n",
        "print(y_pred_prob_dt)\n",
        "\n"
      ],
      "metadata": {
        "colab": {
          "base_uri": "https://localhost:8080/"
        },
        "outputId": "2a9828f5-04b8-4a29-dd18-9ee23eacc2af",
        "id": "U83HvJlzgo43"
      },
      "execution_count": 120,
      "outputs": [
        {
          "output_type": "stream",
          "name": "stdout",
          "text": [
            "[[  72  238]\n",
            " [ 378 1645]]\n",
            "              precision    recall  f1-score   support\n",
            "\n",
            "           0       0.16      0.23      0.19       310\n",
            "           1       0.87      0.81      0.84      2023\n",
            "\n",
            "    accuracy                           0.74      2333\n",
            "   macro avg       0.52      0.52      0.52      2333\n",
            "weighted avg       0.78      0.74      0.76      2333\n",
            "\n",
            "F1 Score: 84%\n",
            "Balanced Accuracy Score: 52%\n",
            "[[1. 0.]\n",
            " [0. 1.]\n",
            " [0. 1.]\n",
            " ...\n",
            " [0. 1.]\n",
            " [0. 1.]\n",
            " [0. 1.]]\n"
          ]
        }
      ]
    },
    {
      "cell_type": "code",
      "source": [
        "#Logistic Regression\n",
        "\n",
        "lr_scaler = MinMaxScaler()\n",
        "lr_scaler.fit(X_train_ros)\n",
        "X_train_lr = lr_scaler.transform(X_train_ros)\n",
        "X_test_lr = lr_scaler.transform(X_test)\n",
        "\n",
        "lr_classifier = LogisticRegression(max_iter=500)\n",
        "lr_classifier.fit(X_train_lr, y_train_ros)\n",
        "\n",
        "y_pred_lr = lr_classifier.predict(X_test_lr)\n",
        "y_pred_prob_lr = lr_classifier.predict_proba(X_test_lr)\n",
        "\n",
        "print(confusion_matrix(y_test,y_pred_lr))\n",
        "print(classification_report(y_test,y_pred_lr))\n",
        "print('F1 Score: {:.0%}'.format(f1_score(y_test,y_pred_lr)))\n",
        "print('Balanced Accuracy Score: {:.0%}'.format(balanced_accuracy_score(y_test,y_pred_lr)))\n"
      ],
      "metadata": {
        "colab": {
          "base_uri": "https://localhost:8080/"
        },
        "outputId": "8372323b-9865-4e86-ad39-e67f8043b873",
        "id": "YA0DQkT1r7eX"
      },
      "execution_count": 121,
      "outputs": [
        {
          "output_type": "stream",
          "name": "stdout",
          "text": [
            "[[ 135  175]\n",
            " [ 630 1393]]\n",
            "              precision    recall  f1-score   support\n",
            "\n",
            "           0       0.18      0.44      0.25       310\n",
            "           1       0.89      0.69      0.78      2023\n",
            "\n",
            "    accuracy                           0.65      2333\n",
            "   macro avg       0.53      0.56      0.51      2333\n",
            "weighted avg       0.79      0.65      0.71      2333\n",
            "\n",
            "F1 Score: 78%\n",
            "Balanced Accuracy Score: 56%\n"
          ]
        }
      ]
    },
    {
      "cell_type": "code",
      "source": [
        "#Get plot for ROC and AUC\n",
        "\n",
        "from sklearn.metrics import roc_curve, auc\n",
        "\n",
        "rfc_fpr, rfc_tpr, threshold = roc_curve(y_test, y_pred_prob_rfc[:, 1])\n",
        "auc_rfc = auc(rfc_fpr, rfc_tpr)\n",
        "\n",
        "ada_fpr, ada_tpr, threshold = roc_curve(y_test, y_pred_prob_ada[:, 1])\n",
        "auc_ada = auc(ada_fpr, ada_tpr)\n",
        "\n",
        "dt_fpr, dt_tpr, threshold = roc_curve(y_test, y_pred_prob_dt[:, 1])\n",
        "auc_dt = auc(dt_fpr, dt_tpr)\n",
        "\n",
        "lr_fpr, lr_tpr, threshold = roc_curve(y_test, y_pred_prob_lr[:, 1])\n",
        "auc_lr = auc(lr_fpr, lr_tpr)\n",
        "\n",
        "plt.figure(figsize=(5, 5), dpi=100)\n",
        "plt.plot(rfc_fpr, rfc_tpr, marker='.', label='RFC (AUC = %0.3f)' % auc_rfc)\n",
        "plt.plot(ada_fpr, ada_tpr, marker='.', label='ADA (AUC = %0.3f)' % auc_ada)\n",
        "plt.plot(dt_fpr, dt_tpr, marker='.', label='DT (AUC = %0.3f)' % auc_dt)\n",
        "plt.plot(lr_fpr, lr_tpr, marker='.', label='LR (AUC = %0.3f)' % auc_lr)\n",
        "\n",
        "plt.xlabel('False Positive Rate -->')\n",
        "plt.ylabel('True Positive Rate -->')\n",
        "\n",
        "plt.legend()\n",
        "\n",
        "plt.show()"
      ],
      "metadata": {
        "colab": {
          "base_uri": "https://localhost:8080/",
          "height": 465
        },
        "id": "51E92Xrkv6EV",
        "outputId": "42e5ae24-0eea-4e54-bd01-fa3b9449ec50"
      },
      "execution_count": 122,
      "outputs": [
        {
          "output_type": "display_data",
          "data": {
            "text/plain": [
              "<Figure size 500x500 with 1 Axes>"
            ],
            "image/png": "[encoded data removed]"
          },
          "metadata": {}
        }
      ]
    },
    {
      "cell_type": "code",
      "source": [
        "plt.plot(joined_array)\n",
        "plt.title(\"Line Plot of 1D Array\")\n",
        "plt.xlabel(\"Index\")\n",
        "plt.ylabel(\"Value\")\n",
        "plt.show()"
      ],
      "metadata": {
        "colab": {
          "base_uri": "https://localhost:8080/",
          "height": 472
        },
        "id": "bGiohA8DPjDF",
        "outputId": "93340ad2-4fb4-4e29-e9f8-c9feb045032d"
      },
      "execution_count": 123,
      "outputs": [
        {
          "output_type": "display_data",
          "data": {
            "text/plain": [
              "<Figure size 640x480 with 1 Axes>"
            ],
            "image/png": "[encoded data removed]"
          },
          "metadata": {}
        }
      ]
    },
    {
      "cell_type": "code",
      "source": [
        "# Perform PCA\n",
        "pca = PCA(n_components=2)\n",
        "reduced_data = pca.fit_transform(joined_array)\n",
        "\n",
        "print(reduced_data.shape)\n",
        "print(reduced_data)\n",
        "\n",
        "\n",
        "# Plot\n",
        "plt.scatter(reduced_data[:, 0],reduced_data[:, 1])\n",
        "plt.xlabel('Principal Component 1')\n",
        "plt.ylabel('Principal Component 2')\n",
        "plt.title('PCA of Vectorized Data')\n",
        "plt.show()"
      ],
      "metadata": {
        "colab": {
          "base_uri": "https://localhost:8080/",
          "height": 615
        },
        "id": "cj0bSMNJQTpG",
        "outputId": "695722bc-b9d9-4065-dfde-03320e37da29"
      },
      "execution_count": 124,
      "outputs": [
        {
          "output_type": "stream",
          "name": "stdout",
          "text": [
            "(11665, 2)\n",
            "[[-57.24659763   0.10629137]\n",
            " [-61.15337968   1.4230285 ]\n",
            " [-61.2337278    0.42774092]\n",
            " ...\n",
            " [ 36.4490555   -7.44702147]\n",
            " [-61.23395059   0.42775743]\n",
            " [-61.23370538   0.42773525]]\n"
          ]
        },
        {
          "output_type": "display_data",
          "data": {
            "text/plain": [
              "<Figure size 640x480 with 1 Axes>"
            ],
            "image/png": "[encoded data removed]"
          },
          "metadata": {}
        }
      ]
    },
    {
      "cell_type": "code",
      "source": [
        "!pip list"
      ],
      "metadata": {
        "colab": {
          "base_uri": "https://localhost:8080/"
        },
        "id": "1xEibGZR546R",
        "outputId": "67c7f351-e7bc-441d-846e-5afada68472c"
      },
      "execution_count": 125,
      "outputs": [
        {
          "output_type": "stream",
          "name": "stdout",
          "text": [
            "Package                          Version\n",
            "-------------------------------- ---------------------\n",
            "absl-py                          1.4.0\n",
            "aiohttp                          3.8.5\n",
            "aiosignal                        1.3.1\n",
            "alabaster                        0.7.13\n",
            "albumentations                   1.3.1\n",
            "altair                           4.2.2\n",
            "anyio                            3.7.1\n",
            "appdirs                          1.4.4\n",
            "argon2-cffi                      23.1.0\n",
            "argon2-cffi-bindings             21.2.0\n",
            "array-record                     0.4.1\n",
            "arviz                            0.15.1\n",
            "astropy                          5.3.3\n",
            "astunparse                       1.6.3\n",
            "async-timeout                    4.0.3\n",
            "attrs                            23.1.0\n",
            "audioread                        3.0.0\n",
            "autograd                         1.6.2\n",
            "Babel                            2.12.1\n",
            "backcall                         0.2.0\n",
            "beautifulsoup4                   4.11.2\n",
            "bleach                           6.0.0\n",
            "blinker                          1.4\n",
            "blis                             0.7.10\n",
            "blosc2                           2.0.0\n",
            "bokeh                            3.2.2\n",
            "bqplot                           0.12.40\n",
            "branca                           0.6.0\n",
            "build                            1.0.3\n",
            "CacheControl                     0.13.1\n",
            "cachetools                       5.3.1\n",
            "catalogue                        2.0.9\n",
            "certifi                          2023.7.22\n",
            "cffi                             1.15.1\n",
            "chardet                          5.2.0\n",
            "charset-normalizer               3.2.0\n",
            "chex                             0.1.7\n",
            "click                            8.1.7\n",
            "click-plugins                    1.1.1\n",
            "cligj                            0.7.2\n",
            "cloudpickle                      2.2.1\n",
            "cmake                            3.27.4.1\n",
            "cmdstanpy                        1.1.0\n",
            "colorcet                         3.0.1\n",
            "colorlover                       0.3.0\n",
            "colour                           0.1.5\n",
            "community                        1.0.0b1\n",
            "confection                       0.1.2\n",
            "cons                             0.4.6\n",
            "contextlib2                      21.6.0\n",
            "contourpy                        1.1.0\n",
            "convertdate                      2.4.0\n",
            "cryptography                     41.0.3\n",
            "cufflinks                        0.17.3\n",
            "cvxopt                           1.3.2\n",
            "cvxpy                            1.3.2\n",
            "cycler                           0.11.0\n",
            "cymem                            2.0.7\n",
            "Cython                           3.0.2\n",
            "dask                             2023.8.1\n",
            "datascience                      0.17.6\n",
            "db-dtypes                        1.1.1\n",
            "dbus-python                      1.2.18\n",
            "debugpy                          1.6.6\n",
            "decorator                        4.4.2\n",
            "defusedxml                       0.7.1\n",
            "distributed                      2023.8.1\n",
            "distro                           1.7.0\n",
            "dlib                             19.24.2\n",
            "dm-tree                          0.1.8\n",
            "docutils                         0.18.1\n",
            "dopamine-rl                      4.0.6\n",
            "duckdb                           0.8.1\n",
            "earthengine-api                  0.1.368\n",
            "easydict                         1.10\n",
            "ecos                             2.0.12\n",
            "editdistance                     0.6.2\n",
            "eerepr                           0.0.4\n",
            "en-core-web-sm                   3.6.0\n",
            "entrypoints                      0.4\n",
            "ephem                            4.1.4\n",
            "et-xmlfile                       1.1.0\n",
            "etils                            1.4.1\n",
            "etuples                          0.3.9\n",
            "exceptiongroup                   1.1.3\n",
            "fastai                           2.7.12\n",
            "fastcore                         1.5.29\n",
            "fastdownload                     0.0.7\n",
            "fastjsonschema                   2.18.0\n",
            "fastprogress                     1.0.3\n",
            "fastrlock                        0.8.2\n",
            "filelock                         3.12.2\n",
            "Fiona                            1.9.4.post1\n",
            "firebase-admin                   5.3.0\n",
            "Flask                            2.2.5\n",
            "flatbuffers                      23.5.26\n",
            "flax                             0.7.2\n",
            "folium                           0.14.0\n",
            "fonttools                        4.42.1\n",
            "frozendict                       2.3.8\n",
            "frozenlist                       1.4.0\n",
            "fsspec                           2023.6.0\n",
            "future                           0.18.3\n",
            "gast                             0.4.0\n",
            "gcsfs                            2023.6.0\n",
            "GDAL                             3.4.3\n",
            "gdown                            4.6.6\n",
            "geemap                           0.26.0\n",
            "gensim                           4.3.2\n",
            "geocoder                         1.38.1\n",
            "geographiclib                    2.0\n",
            "geopandas                        0.13.2\n",
            "geopy                            2.3.0\n",
            "gin-config                       0.5.0\n",
            "glob2                            0.7\n",
            "google                           2.0.3\n",
            "google-api-core                  2.11.1\n",
            "google-api-python-client         2.84.0\n",
            "google-auth                      2.17.3\n",
            "google-auth-httplib2             0.1.0\n",
            "google-auth-oauthlib             1.0.0\n",
            "google-cloud-bigquery            3.10.0\n",
            "google-cloud-bigquery-connection 1.12.1\n",
            "google-cloud-bigquery-storage    2.22.0\n",
            "google-cloud-core                2.3.3\n",
            "google-cloud-datastore           2.15.2\n",
            "google-cloud-firestore           2.11.1\n",
            "google-cloud-functions           1.13.2\n",
            "google-cloud-language            2.9.1\n",
            "google-cloud-storage             2.8.0\n",
            "google-cloud-translate           3.11.3\n",
            "google-colab                     1.0.0\n",
            "google-crc32c                    1.5.0\n",
            "google-pasta                     0.2.0\n",
            "google-resumable-media           2.6.0\n",
            "googleapis-common-protos         1.60.0\n",
            "googledrivedownloader            0.4\n",
            "graphviz                         0.20.1\n",
            "greenlet                         2.0.2\n",
            "grpc-google-iam-v1               0.12.6\n",
            "grpcio                           1.57.0\n",
            "grpcio-status                    1.48.2\n",
            "gspread                          3.4.2\n",
            "gspread-dataframe                3.3.1\n",
            "gym                              0.25.2\n",
            "gym-notices                      0.0.8\n",
            "h5netcdf                         1.2.0\n",
            "h5py                             3.9.0\n",
            "holidays                         0.32\n",
            "holoviews                        1.17.1\n",
            "html5lib                         1.1\n",
            "httpimport                       1.3.1\n",
            "httplib2                         0.22.0\n",
            "humanize                         4.7.0\n",
            "hyperopt                         0.2.7\n",
            "idna                             3.4\n",
            "imageio                          2.31.3\n",
            "imageio-ffmpeg                   0.4.8\n",
            "imagesize                        1.4.1\n",
            "imbalanced-learn                 0.10.1\n",
            "imgaug                           0.4.0\n",
            "importlib-metadata               6.8.0\n",
            "importlib-resources              6.0.1\n",
            "imutils                          0.5.4\n",
            "inflect                          7.0.0\n",
            "iniconfig                        2.0.0\n",
            "intel-openmp                     2023.2.0\n",
            "ipyevents                        2.0.2\n",
            "ipyfilechooser                   0.6.0\n",
            "ipykernel                        5.5.6\n",
            "ipyleaflet                       0.17.3\n",
            "ipython                          7.34.0\n",
            "ipython-genutils                 0.2.0\n",
            "ipython-sql                      0.5.0\n",
            "ipytree                          0.2.2\n",
            "ipywidgets                       7.7.1\n",
            "itsdangerous                     2.1.2\n",
            "jax                              0.4.14\n",
            "jaxlib                           0.4.14+cuda11.cudnn86\n",
            "jeepney                          0.7.1\n",
            "jieba                            0.42.1\n",
            "Jinja2                           3.1.2\n",
            "joblib                           1.3.2\n",
            "jsonpickle                       3.0.2\n",
            "jsonschema                       4.19.0\n",
            "jsonschema-specifications        2023.7.1\n",
            "jupyter-client                   6.1.12\n",
            "jupyter-console                  6.1.0\n",
            "jupyter_core                     5.3.1\n",
            "jupyter-server                   1.24.0\n",
            "jupyterlab-pygments              0.2.2\n",
            "jupyterlab-widgets               3.0.8\n",
            "kaggle                           1.5.16\n",
            "keras                            2.13.1\n",
            "keyring                          23.5.0\n",
            "kiwisolver                       1.4.5\n",
            "langcodes                        3.3.0\n",
            "launchpadlib                     1.10.16\n",
            "lazr.restfulclient               0.14.4\n",
            "lazr.uri                         1.0.6\n",
            "lazy_loader                      0.3\n",
            "libclang                         16.0.6\n",
            "librosa                          0.10.1\n",
            "lightgbm                         4.0.0\n",
            "linkify-it-py                    2.0.2\n",
            "lit                              16.0.6\n",
            "llvmlite                         0.39.1\n",
            "locket                           1.0.0\n",
            "logical-unification              0.4.6\n",
            "LunarCalendar                    0.0.9\n",
            "lxml                             4.9.3\n",
            "Markdown                         3.4.4\n",
            "markdown-it-py                   3.0.0\n",
            "MarkupSafe                       2.1.3\n",
            "matplotlib                       3.7.1\n",
            "matplotlib-inline                0.1.6\n",
            "matplotlib-venn                  0.11.9\n",
            "mdit-py-plugins                  0.4.0\n",
            "mdurl                            0.1.2\n",
            "miniKanren                       1.0.3\n",
            "missingno                        0.5.2\n",
            "mistune                          0.8.4\n",
            "mizani                           0.9.3\n",
            "mkl                              2023.2.0\n",
            "ml-dtypes                        0.2.0\n",
            "mlxtend                          0.22.0\n",
            "more-itertools                   10.1.0\n",
            "moviepy                          1.0.3\n",
            "mpmath                           1.3.0\n",
            "msgpack                          1.0.5\n",
            "multidict                        6.0.4\n",
            "multipledispatch                 1.0.0\n",
            "multitasking                     0.0.11\n",
            "murmurhash                       1.0.9\n",
            "music21                          9.1.0\n",
            "natsort                          8.4.0\n",
            "nbclassic                        1.0.0\n",
            "nbclient                         0.8.0\n",
            "nbconvert                        6.5.4\n",
            "nbformat                         5.9.2\n",
            "nest-asyncio                     1.5.7\n",
            "networkx                         3.1\n",
            "nibabel                          4.0.2\n",
            "nltk                             3.8.1\n",
            "notebook                         6.5.5\n",
            "notebook_shim                    0.2.3\n",
            "numba                            0.56.4\n",
            "numexpr                          2.8.5\n",
            "numpy                            1.23.5\n",
            "oauth2client                     4.1.3\n",
            "oauthlib                         3.2.2\n",
            "opencv-contrib-python            4.8.0.76\n",
            "opencv-python                    4.8.0.76\n",
            "opencv-python-headless           4.8.0.76\n",
            "openpyxl                         3.1.2\n",
            "opt-einsum                       3.3.0\n",
            "optax                            0.1.7\n",
            "orbax-checkpoint                 0.3.5\n",
            "osqp                             0.6.2.post8\n",
            "packaging                        23.1\n",
            "pandas                           1.5.3\n",
            "pandas-datareader                0.10.0\n",
            "pandas-gbq                       0.17.9\n",
            "pandocfilters                    1.5.0\n",
            "panel                            1.2.2\n",
            "param                            1.13.0\n",
            "parso                            0.8.3\n",
            "partd                            1.4.0\n",
            "pathlib                          1.0.1\n",
            "pathy                            0.10.2\n",
            "patsy                            0.5.3\n",
            "pexpect                          4.8.0\n",
            "pickleshare                      0.7.5\n",
            "Pillow                           9.4.0\n",
            "pip                              23.1.2\n",
            "pip-tools                        6.13.0\n",
            "platformdirs                     3.10.0\n",
            "plotly                           5.15.0\n",
            "plotnine                         0.12.3\n",
            "pluggy                           1.3.0\n",
            "polars                           0.17.3\n",
            "pooch                            1.7.0\n",
            "portpicker                       1.5.2\n",
            "prefetch-generator               1.0.3\n",
            "preshed                          3.0.8\n",
            "prettytable                      3.8.0\n",
            "proglog                          0.1.10\n",
            "progressbar2                     4.2.0\n",
            "prometheus-client                0.17.1\n",
            "promise                          2.3\n",
            "prompt-toolkit                   3.0.39\n",
            "prophet                          1.1.4\n",
            "proto-plus                       1.22.3\n",
            "protobuf                         3.20.3\n",
            "psutil                           5.9.5\n",
            "psycopg2                         2.9.7\n",
            "ptyprocess                       0.7.0\n",
            "py-cpuinfo                       9.0.0\n",
            "py4j                             0.10.9.7\n",
            "pyarrow                          9.0.0\n",
            "pyasn1                           0.5.0\n",
            "pyasn1-modules                   0.3.0\n",
            "pycocotools                      2.0.7\n",
            "pycparser                        2.21\n",
            "pyct                             0.5.0\n",
            "pydantic                         1.10.12\n",
            "pydata-google-auth               1.8.2\n",
            "pydot                            1.4.2\n",
            "pydot-ng                         2.0.0\n",
            "pydotplus                        2.0.2\n",
            "PyDrive                          1.3.1\n",
            "PyDrive2                         1.6.3\n",
            "pyerfa                           2.0.0.3\n",
            "pygame                           2.5.1\n",
            "Pygments                         2.16.1\n",
            "PyGObject                        3.42.1\n",
            "PyJWT                            2.3.0\n",
            "pymc                             5.7.2\n",
            "PyMeeus                          0.5.12\n",
            "pymystem3                        0.2.0\n",
            "PyOpenGL                         3.1.7\n",
            "pyOpenSSL                        23.2.0\n",
            "pyparsing                        3.1.1\n",
            "pyperclip                        1.8.2\n",
            "pyproj                           3.6.0\n",
            "pyproject_hooks                  1.0.0\n",
            "pyshp                            2.3.1\n",
            "PySocks                          1.7.1\n",
            "pytensor                         2.14.2\n",
            "pytest                           7.4.1\n",
            "python-apt                       0.0.0\n",
            "python-box                       7.1.1\n",
            "python-dateutil                  2.8.2\n",
            "python-louvain                   0.16\n",
            "python-slugify                   8.0.1\n",
            "python-utils                     3.7.0\n",
            "pytz                             2023.3.post1\n",
            "pyviz_comms                      3.0.0\n",
            "PyWavelets                       1.4.1\n",
            "PyYAML                           6.0.1\n",
            "pyzmq                            23.2.1\n",
            "qdldl                            0.1.7.post0\n",
            "qudida                           0.0.4\n",
            "ratelim                          0.1.6\n",
            "referencing                      0.30.2\n",
            "regex                            2023.6.3\n",
            "requests                         2.31.0\n",
            "requests-oauthlib                1.3.1\n",
            "requirements-parser              0.5.0\n",
            "rich                             13.5.2\n",
            "rpds-py                          0.10.2\n",
            "rpy2                             3.4.2\n",
            "rsa                              4.9\n",
            "scikit-image                     0.19.3\n",
            "scikit-learn                     1.2.2\n",
            "scipy                            1.11.2\n",
            "scooby                           0.7.2\n",
            "scs                              3.2.3\n",
            "seaborn                          0.12.2\n",
            "SecretStorage                    3.3.1\n",
            "Send2Trash                       1.8.2\n",
            "setuptools                       67.7.2\n",
            "shapely                          2.0.1\n",
            "six                              1.16.0\n",
            "sklearn-pandas                   2.2.0\n",
            "smart-open                       6.4.0\n",
            "sniffio                          1.3.0\n",
            "snowballstemmer                  2.2.0\n",
            "sortedcontainers                 2.4.0\n",
            "soundfile                        0.12.1\n",
            "soupsieve                        2.5\n",
            "soxr                             0.3.6\n",
            "spacy                            3.6.1\n",
            "spacy-legacy                     3.0.12\n",
            "spacy-loggers                    1.0.4\n",
            "Sphinx                           5.0.2\n",
            "sphinxcontrib-applehelp          1.0.7\n",
            "sphinxcontrib-devhelp            1.0.5\n",
            "sphinxcontrib-htmlhelp           2.0.4\n",
            "sphinxcontrib-jsmath             1.0.1\n",
            "sphinxcontrib-qthelp             1.0.6\n",
            "sphinxcontrib-serializinghtml    1.1.9\n",
            "SQLAlchemy                       2.0.20\n",
            "sqlparse                         0.4.4\n",
            "srsly                            2.4.7\n",
            "statsmodels                      0.14.0\n",
            "sympy                            1.12\n",
            "tables                           3.8.0\n",
            "tabulate                         0.9.0\n",
            "tbb                              2021.10.0\n",
            "tblib                            2.0.0\n",
            "tenacity                         8.2.3\n",
            "tensorboard                      2.13.0\n",
            "tensorboard-data-server          0.7.1\n",
            "tensorflow                       2.13.0\n",
            "tensorflow-datasets              4.9.2\n",
            "tensorflow-estimator             2.13.0\n",
            "tensorflow-gcs-config            2.13.0\n",
            "tensorflow-hub                   0.14.0\n",
            "tensorflow-io-gcs-filesystem     0.33.0\n",
            "tensorflow-metadata              1.14.0\n",
            "tensorflow-probability           0.20.1\n",
            "tensorstore                      0.1.41\n",
            "termcolor                        2.3.0\n",
            "terminado                        0.17.1\n",
            "text-unidecode                   1.3\n",
            "textblob                         0.17.1\n",
            "tf-slim                          1.1.0\n",
            "thinc                            8.1.12\n",
            "threadpoolctl                    3.2.0\n",
            "tifffile                         2023.8.30\n",
            "tinycss2                         1.2.1\n",
            "toml                             0.10.2\n",
            "tomli                            2.0.1\n",
            "toolz                            0.12.0\n",
            "torch                            2.0.1+cu118\n",
            "torchaudio                       2.0.2+cu118\n",
            "torchdata                        0.6.1\n",
            "torchsummary                     1.5.1\n",
            "torchtext                        0.15.2\n",
            "torchvision                      0.15.2+cu118\n",
            "tornado                          6.3.2\n",
            "tqdm                             4.66.1\n",
            "traitlets                        5.7.1\n",
            "traittypes                       0.2.1\n",
            "triton                           2.0.0\n",
            "tweepy                           4.13.0\n",
            "typer                            0.9.0\n",
            "types-setuptools                 68.2.0.0\n",
            "typing_extensions                4.5.0\n",
            "tzlocal                          5.0.1\n",
            "uc-micro-py                      1.0.2\n",
            "uritemplate                      4.1.1\n",
            "urllib3                          2.0.4\n",
            "vega-datasets                    0.9.0\n",
            "wadllib                          1.3.6\n",
            "wasabi                           1.1.2\n",
            "wcwidth                          0.2.6\n",
            "webcolors                        1.13\n",
            "webencodings                     0.5.1\n",
            "websocket-client                 1.6.2\n",
            "Werkzeug                         2.3.7\n",
            "wheel                            0.41.2\n",
            "widgetsnbextension               3.6.5\n",
            "wordcloud                        1.9.2\n",
            "wrapt                            1.15.0\n",
            "xarray                           2023.7.0\n",
            "xarray-einstats                  0.6.0\n",
            "xgboost                          1.7.6\n",
            "xlrd                             2.0.1\n",
            "xyzservices                      2023.7.0\n",
            "yarl                             1.9.2\n",
            "yellowbrick                      1.5\n",
            "yfinance                         0.2.28\n",
            "zict                             3.0.0\n",
            "zipp                             3.16.2\n"
          ]
        }
      ]
    }
  ],
  "metadata": {
    "colab": {
      "provenance": [],
      "collapsed_sections": [
        "4TLVatyY9sX1",
        "ZhvZVmfK-CkV",
        "B-k2y1-3Cljp",
        "0QwkSzi8C9Rk"
      ],
      "mount_file_id": "1m8YwRW6PybgADheXzPA-ZLJg7YUjo0-y",
      "authorship_tag": "ABX9TyOsRa9Yd/TcYZa0ZGT6Kex0",
      "include_colab_link": true
    },
    "kernelspec": {
      "display_name": "Python 3",
      "name": "python3"
    },
    "language_info": {
      "name": "python"
    }
  },
  "nbformat": 4,
  "nbformat_minor": 0
}