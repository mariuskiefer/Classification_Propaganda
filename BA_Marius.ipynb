{
  "cells": [
    {
      "cell_type": "markdown",
      "metadata": {
        "id": "view-in-github",
        "colab_type": "text"
      },
      "source": [
        "<a href=\"https://colab.research.google.com/github/mariuskiefer/Classification_Propaganda/blob/main/BA_Marius.ipynb\" target=\"_parent\"><img src=\"https://colab.research.google.com/assets/colab-badge.svg\" alt=\"Open In Colab\"/></a>"
      ]
    },
    {
      "cell_type": "markdown",
      "source": [
        "# Install required dependencies for Google Colab"
      ],
      "metadata": {
        "id": "tBg7-VhZ9j5j"
      }
    },
    {
      "cell_type": "code",
      "execution_count": 3,
      "metadata": {
        "colab": {
          "base_uri": "https://localhost:8080/"
        },
        "id": "bbj1HgfAeXiS",
        "outputId": "9aad513d-a45f-4d99-aabf-61ba664116a1"
      },
      "outputs": [
        {
          "output_type": "stream",
          "name": "stdout",
          "text": [
            "Requirement already satisfied: regex in /usr/local/lib/python3.10/dist-packages (2023.6.3)\n"
          ]
        }
      ],
      "source": [
        "!pip install regex"
      ]
    },
    {
      "cell_type": "code",
      "execution_count": 4,
      "metadata": {
        "colab": {
          "base_uri": "https://localhost:8080/"
        },
        "id": "PJaF_0aieyOI",
        "outputId": "931e248a-1d79-4e4b-9d22-d2c16028e931"
      },
      "outputs": [
        {
          "output_type": "stream",
          "name": "stdout",
          "text": [
            "Requirement already satisfied: scikit-learn==1.2.2 in /usr/local/lib/python3.10/dist-packages (1.2.2)\n",
            "Requirement already satisfied: numpy>=1.17.3 in /usr/local/lib/python3.10/dist-packages (from scikit-learn==1.2.2) (1.23.5)\n",
            "Requirement already satisfied: scipy>=1.3.2 in /usr/local/lib/python3.10/dist-packages (from scikit-learn==1.2.2) (1.11.2)\n",
            "Requirement already satisfied: joblib>=1.1.1 in /usr/local/lib/python3.10/dist-packages (from scikit-learn==1.2.2) (1.3.2)\n",
            "Requirement already satisfied: threadpoolctl>=2.0.0 in /usr/local/lib/python3.10/dist-packages (from scikit-learn==1.2.2) (3.2.0)\n"
          ]
        }
      ],
      "source": [
        "!pip install -U scikit-learn==1.2.2"
      ]
    },
    {
      "cell_type": "code",
      "execution_count": 5,
      "metadata": {
        "colab": {
          "base_uri": "https://localhost:8080/"
        },
        "id": "64rlX6e7e6N5",
        "outputId": "75a091cd-19e2-4630-97a9-e181944f98b6"
      },
      "outputs": [
        {
          "output_type": "stream",
          "name": "stdout",
          "text": [
            "Requirement already satisfied: nltk in /usr/local/lib/python3.10/dist-packages (3.8.1)\n",
            "Requirement already satisfied: click in /usr/local/lib/python3.10/dist-packages (from nltk) (8.1.7)\n",
            "Requirement already satisfied: joblib in /usr/local/lib/python3.10/dist-packages (from nltk) (1.3.2)\n",
            "Requirement already satisfied: regex>=2021.8.3 in /usr/local/lib/python3.10/dist-packages (from nltk) (2023.6.3)\n",
            "Requirement already satisfied: tqdm in /usr/local/lib/python3.10/dist-packages (from nltk) (4.66.1)\n"
          ]
        }
      ],
      "source": [
        "!pip install --user -U nltk"
      ]
    },
    {
      "cell_type": "code",
      "source": [
        "!pip install imbalanced-learn"
      ],
      "metadata": {
        "colab": {
          "base_uri": "https://localhost:8080/"
        },
        "id": "_0VT7US8N8rY",
        "outputId": "f4427954-05f1-41c7-b373-fcd459707dab"
      },
      "execution_count": 6,
      "outputs": [
        {
          "output_type": "stream",
          "name": "stdout",
          "text": [
            "Requirement already satisfied: imbalanced-learn in /usr/local/lib/python3.10/dist-packages (0.10.1)\n",
            "Requirement already satisfied: numpy>=1.17.3 in /usr/local/lib/python3.10/dist-packages (from imbalanced-learn) (1.23.5)\n",
            "Requirement already satisfied: scipy>=1.3.2 in /usr/local/lib/python3.10/dist-packages (from imbalanced-learn) (1.11.2)\n",
            "Requirement already satisfied: scikit-learn>=1.0.2 in /usr/local/lib/python3.10/dist-packages (from imbalanced-learn) (1.2.2)\n",
            "Requirement already satisfied: joblib>=1.1.1 in /usr/local/lib/python3.10/dist-packages (from imbalanced-learn) (1.3.2)\n",
            "Requirement already satisfied: threadpoolctl>=2.0.0 in /usr/local/lib/python3.10/dist-packages (from imbalanced-learn) (3.2.0)\n"
          ]
        }
      ]
    },
    {
      "cell_type": "markdown",
      "source": [
        "# Import libraries"
      ],
      "metadata": {
        "id": "4TLVatyY9sX1"
      }
    },
    {
      "cell_type": "code",
      "execution_count": 7,
      "metadata": {
        "id": "cor61A0OTDYP"
      },
      "outputs": [],
      "source": [
        "import pandas as pd\n",
        "import numpy as np\n",
        "import matplotlib.pyplot as plt\n",
        "import json\n",
        "import pickle"
      ]
    },
    {
      "cell_type": "code",
      "execution_count": 8,
      "metadata": {
        "id": "dOmAryBQaBk5"
      },
      "outputs": [],
      "source": [
        "from sklearn.model_selection import train_test_split\n",
        "from sklearn.feature_extraction.text import TfidfVectorizer"
      ]
    },
    {
      "cell_type": "code",
      "execution_count": 9,
      "metadata": {
        "id": "qIdyjIxnfHyo"
      },
      "outputs": [],
      "source": [
        "import re\n",
        "from sklearn.datasets import load_files\n",
        "from nltk.corpus import stopwords\n",
        "import nltk"
      ]
    },
    {
      "cell_type": "markdown",
      "source": [
        "# Get the Data to and save as pandas Dataframe"
      ],
      "metadata": {
        "id": "ZhvZVmfK-CkV"
      }
    },
    {
      "cell_type": "code",
      "execution_count": null,
      "metadata": {
        "id": "QdCPHBwzQyFs"
      },
      "outputs": [],
      "source": [
        "#Get the data\n",
        "path = '/content/drive/MyDrive/ba_data/Colab_data/filtered_tweets_with_bot_no_news'\n",
        "df = pd.read_pickle(path)"
      ]
    },
    {
      "cell_type": "code",
      "execution_count": null,
      "metadata": {
        "id": "7XCjqoXxbPgY"
      },
      "outputs": [],
      "source": [
        "#Overview over data\n",
        "df.head(5)"
      ]
    },
    {
      "cell_type": "code",
      "execution_count": null,
      "metadata": {
        "id": "24bDmJjwbuew"
      },
      "outputs": [],
      "source": [
        "#Open Deleted and Non-Deleted ID-files to extract the tweets from original data\n",
        "\n",
        "with open('/content/drive/MyDrive/ba_data/Colab_data/deleted_ids.txt') as delfile:\n",
        "    deleted_ids = delfile.read().splitlines()\n",
        "\n",
        "\n",
        "with open('/content/drive/MyDrive/ba_data/Colab_data/nondeleted_ids.txt') as nondelfile:\n",
        "    nondeleted_ids = nondelfile.read().splitlines()\n",
        "\n",
        "\n",
        "col_one_list = df['id'].tolist()\n",
        "\n",
        "#Check if the array\n",
        "print(len(deleted_ids))\n",
        "print(len(nondeleted_ids))\n",
        "print(len(col_one_list))"
      ]
    },
    {
      "cell_type": "markdown",
      "source": [],
      "metadata": {
        "id": "vKn2zb46-Pvt"
      }
    },
    {
      "cell_type": "code",
      "execution_count": null,
      "metadata": {
        "id": "sUcr22SpcULj"
      },
      "outputs": [],
      "source": [
        "#Function to create 'Status' feature which holds information, if a tweet got deleted or not\n",
        "def classify_id(id_value):\n",
        "    if str(id_value) in deleted_ids:\n",
        "        return 1\n",
        "    elif str(id_value) in nondeleted_ids:\n",
        "        return 0\n",
        "    else:\n",
        "        return 'Unknown'\n",
        "\n",
        "df['status'] = df['id'].apply(classify_id)\n",
        "\n",
        "print(df[['id','status']].head(80))"
      ]
    },
    {
      "cell_type": "code",
      "execution_count": null,
      "metadata": {
        "id": "KlvA_F0LcvbA"
      },
      "outputs": [],
      "source": [
        "#Create new dataframe which only contains the deleted/non-deleted labeled data\n",
        "newdf = df.loc[df['status'] != 'Unknown'].copy()\n",
        "\n",
        "newdf.head(5)"
      ]
    },
    {
      "cell_type": "code",
      "execution_count": null,
      "metadata": {
        "id": "NgXT7mFtcydb"
      },
      "outputs": [],
      "source": [
        "#check length\n",
        "print(len(newdf.index))"
      ]
    },
    {
      "cell_type": "code",
      "execution_count": null,
      "metadata": {
        "id": "iUppMjtYdLsH"
      },
      "outputs": [],
      "source": [
        "#get the bot tweet ids and store them in an array\n",
        "file = open('/content/drive/MyDrive/ba_data/Colab_data/bot_tweet_ids.json')\n",
        "data = json.load(file)\n",
        "botidlist = []\n",
        "\n",
        "for i in data:\n",
        "    botidlist.append(str(i))\n",
        "\n",
        "print(len(botidlist))"
      ]
    },
    {
      "cell_type": "code",
      "execution_count": null,
      "metadata": {
        "id": "HhpHqbRgdb3V"
      },
      "outputs": [],
      "source": [
        "#create function to label tweet as bot tweet\n",
        "def classify_id_bot(id_value):\n",
        "    if str(id_value) in botidlist:\n",
        "        return 1\n",
        "    else:\n",
        "        return 0\n",
        "\n",
        "newdf['bot_status'] = newdf['id'].apply(classify_id_bot)"
      ]
    },
    {
      "cell_type": "code",
      "execution_count": null,
      "metadata": {
        "id": "pSR__gXJdkY2"
      },
      "outputs": [],
      "source": [
        "#Check of the new columns\n",
        "newdf.loc[: , ['id','bot_status', 'status']]"
      ]
    },
    {
      "cell_type": "code",
      "execution_count": null,
      "metadata": {
        "id": "7-kfKkdKdsHY"
      },
      "outputs": [],
      "source": [
        "#Create function to make plot easier\n",
        "def classify_bot_del(bot_value, del_value):\n",
        "    if ((int(bot_value) == 1 ) and (int(del_value) == 1)):\n",
        "        return (1,1)\n",
        "    elif ((int(bot_value) == 1 ) and (int(del_value) != 1)):\n",
        "        return (1,0)\n",
        "    elif ((int(bot_value) != 1) and (int(del_value) == 1)):\n",
        "        return (0,1)\n",
        "    elif ((int(bot_value) != 1) and (int(del_value) != 1)):\n",
        "        return (0,0)\n",
        "    else:\n",
        "        return 'Something went wrong'"
      ]
    },
    {
      "cell_type": "code",
      "execution_count": null,
      "metadata": {
        "id": "pv2vxhNod3PH"
      },
      "outputs": [],
      "source": [
        "#apply function\n",
        "newdf['bot_del_tupel'] = newdf.apply(lambda x: classify_bot_del(x['bot_status'], x['status']), axis=1)"
      ]
    },
    {
      "cell_type": "code",
      "source": [
        "newdf.to_pickle(\"/content/drive/MyDrive/ba_data/Colab_data/newdf.pkl\")"
      ],
      "metadata": {
        "id": "DO0HU7YPT8RV"
      },
      "execution_count": null,
      "outputs": []
    },
    {
      "cell_type": "markdown",
      "source": [
        "# Load the new dataframe to skip the steps before and save time running the whole notebook"
      ],
      "metadata": {
        "id": "B-k2y1-3Cljp"
      }
    },
    {
      "cell_type": "code",
      "source": [
        "newdf = pd.read_pickle(\"/content/drive/MyDrive/ba_data/Colab_data/newdf.pkl\")"
      ],
      "metadata": {
        "id": "Jx2WV7RBVPPP"
      },
      "execution_count": 10,
      "outputs": []
    },
    {
      "cell_type": "code",
      "source": [
        "newdf.head(5)"
      ],
      "metadata": {
        "colab": {
          "base_uri": "https://localhost:8080/",
          "height": 464
        },
        "id": "PA-2kFnPVWHU",
        "outputId": "7d75939b-fc35-433f-fbb0-714d70e6ad5f"
      },
      "execution_count": 11,
      "outputs": [
        {
          "output_type": "execute_result",
          "data": {
            "text/plain": [
              "                    id                created_at  \\\n",
              "0  1488409670985342976 2022-02-01 07:11:33+00:00   \n",
              "1  1488519264965632000 2022-02-01 14:27:02+00:00   \n",
              "2  1488722144221556736 2022-02-02 03:53:12+00:00   \n",
              "3  1488778932396732416 2022-02-02 07:38:52+00:00   \n",
              "4  1488959106962669568 2022-02-02 19:34:49+00:00   \n",
              "\n",
              "                                                text            author_id  \\\n",
              "0  RT @marylin45277502: Bravo Russia. Zionists ar...  1403385555522568192   \n",
              "1  @SarahMacFCDO @NATO @trussliz Does it mean tha...            131222694   \n",
              "2  @jensstoltenberg @SecBlinken @RauZbigniew @Jos...            131222694   \n",
              "3                             #StandWithRussia 🇷🇺🪖💪🏼  1455721787090743296   \n",
              "4  .@mfa_russia is right to mock @BorisJohnson an...             14109618   \n",
              "\n",
              "                                 context_annotations lang reply_settings  \\\n",
              "0  [{'domain': {'id': '67', 'name': 'Interests an...   en       everyone   \n",
              "1  [{'domain': {'id': '88', 'name': 'Political Bo...   en       everyone   \n",
              "2  [{'domain': {'id': '10', 'name': 'Person', 'de...   en       everyone   \n",
              "3                                                NaN  und       everyone   \n",
              "4  [{'domain': {'id': '10', 'name': 'Person', 'de...   en       everyone   \n",
              "\n",
              "                                   referenced_tweets      conversation_id  \\\n",
              "0  [{'type': 'retweeted', 'id': '1488233560343519...  1488409670985342976   \n",
              "1  [{'type': 'replied_to', 'id': '148843635517684...  1488436355176841216   \n",
              "2  [{'type': 'replied_to', 'id': '148862016316767...  1488620163167670272   \n",
              "3                                                NaN  1488778932396732416   \n",
              "4                                                NaN  1488959106962669568   \n",
              "\n",
              "   in_reply_to_user_id  ...  \\\n",
              "0                  NaN  ...   \n",
              "1         1.194610e+18  ...   \n",
              "2         2.079607e+07  ...   \n",
              "3                  NaN  ...   \n",
              "4                  NaN  ...   \n",
              "\n",
              "                            profile_image_url_author  username_author  \\\n",
              "0  https://pbs.twimg.com/profile_images/145772126...  2K2CxBg235TwT8H   \n",
              "1  https://pbs.twimg.com/profile_images/154279417...   boriskulikov83   \n",
              "2  https://pbs.twimg.com/profile_images/154279417...   boriskulikov83   \n",
              "3  https://pbs.twimg.com/profile_images/153765746...     ussygussy369   \n",
              "4  https://pbs.twimg.com/profile_images/68370635/...        sengeezer   \n",
              "\n",
              "  verified_author                                    entities_author  \\\n",
              "0           False                                                NaN   \n",
              "1           False  {'description': {'hashtags': [{'start': 93, 'e...   \n",
              "2           False  {'description': {'hashtags': [{'start': 93, 'e...   \n",
              "3           False                                                NaN   \n",
              "4           False  {'url': {'urls': [{'start': 0, 'end': 23, 'url...   \n",
              "\n",
              "  pinned_tweet_id_author          location_author withheld_author status  \\\n",
              "0                    NaN                      NaN             NaN      0   \n",
              "1    1458364125608755203  新潟　東京　福岡　長崎　ロシア（南クリル諸島）             NaN      0   \n",
              "2    1458364125608755203  新潟　東京　福岡　長崎　ロシア（南クリル諸島）             NaN      0   \n",
              "3                    NaN                 The Land             NaN      1   \n",
              "4                    NaN          London, England             NaN      1   \n",
              "\n",
              "  bot_status bot_del_tupel  \n",
              "0          0        (0, 0)  \n",
              "1          0        (0, 0)  \n",
              "2          0        (0, 0)  \n",
              "3          0        (0, 1)  \n",
              "4          0        (0, 1)  \n",
              "\n",
              "[5 rows x 43 columns]"
            ],
            "text/html": [
              "\n",
              "  <div id=\"df-79c442e9-e07a-4880-8d18-f500bd7d909b\" class=\"colab-df-container\">\n",
              "    <div>\n",
              "<style scoped>\n",
              "    .dataframe tbody tr th:only-of-type {\n",
              "        vertical-align: middle;\n",
              "    }\n",
              "\n",
              "    .dataframe tbody tr th {\n",
              "        vertical-align: top;\n",
              "    }\n",
              "\n",
              "    .dataframe thead th {\n",
              "        text-align: right;\n",
              "    }\n",
              "</style>\n",
              "<table border=\"1\" class=\"dataframe\">\n",
              "  <thead>\n",
              "    <tr style=\"text-align: right;\">\n",
              "      <th></th>\n",
              "      <th>id</th>\n",
              "      <th>created_at</th>\n",
              "      <th>text</th>\n",
              "      <th>author_id</th>\n",
              "      <th>context_annotations</th>\n",
              "      <th>lang</th>\n",
              "      <th>reply_settings</th>\n",
              "      <th>referenced_tweets</th>\n",
              "      <th>conversation_id</th>\n",
              "      <th>in_reply_to_user_id</th>\n",
              "      <th>...</th>\n",
              "      <th>profile_image_url_author</th>\n",
              "      <th>username_author</th>\n",
              "      <th>verified_author</th>\n",
              "      <th>entities_author</th>\n",
              "      <th>pinned_tweet_id_author</th>\n",
              "      <th>location_author</th>\n",
              "      <th>withheld_author</th>\n",
              "      <th>status</th>\n",
              "      <th>bot_status</th>\n",
              "      <th>bot_del_tupel</th>\n",
              "    </tr>\n",
              "  </thead>\n",
              "  <tbody>\n",
              "    <tr>\n",
              "      <th>0</th>\n",
              "      <td>1488409670985342976</td>\n",
              "      <td>2022-02-01 07:11:33+00:00</td>\n",
              "      <td>RT @marylin45277502: Bravo Russia. Zionists ar...</td>\n",
              "      <td>1403385555522568192</td>\n",
              "      <td>[{'domain': {'id': '67', 'name': 'Interests an...</td>\n",
              "      <td>en</td>\n",
              "      <td>everyone</td>\n",
              "      <td>[{'type': 'retweeted', 'id': '1488233560343519...</td>\n",
              "      <td>1488409670985342976</td>\n",
              "      <td>NaN</td>\n",
              "      <td>...</td>\n",
              "      <td>https://pbs.twimg.com/profile_images/145772126...</td>\n",
              "      <td>2K2CxBg235TwT8H</td>\n",
              "      <td>False</td>\n",
              "      <td>NaN</td>\n",
              "      <td>NaN</td>\n",
              "      <td>NaN</td>\n",
              "      <td>NaN</td>\n",
              "      <td>0</td>\n",
              "      <td>0</td>\n",
              "      <td>(0, 0)</td>\n",
              "    </tr>\n",
              "    <tr>\n",
              "      <th>1</th>\n",
              "      <td>1488519264965632000</td>\n",
              "      <td>2022-02-01 14:27:02+00:00</td>\n",
              "      <td>@SarahMacFCDO @NATO @trussliz Does it mean tha...</td>\n",
              "      <td>131222694</td>\n",
              "      <td>[{'domain': {'id': '88', 'name': 'Political Bo...</td>\n",
              "      <td>en</td>\n",
              "      <td>everyone</td>\n",
              "      <td>[{'type': 'replied_to', 'id': '148843635517684...</td>\n",
              "      <td>1488436355176841216</td>\n",
              "      <td>1.194610e+18</td>\n",
              "      <td>...</td>\n",
              "      <td>https://pbs.twimg.com/profile_images/154279417...</td>\n",
              "      <td>boriskulikov83</td>\n",
              "      <td>False</td>\n",
              "      <td>{'description': {'hashtags': [{'start': 93, 'e...</td>\n",
              "      <td>1458364125608755203</td>\n",
              "      <td>新潟　東京　福岡　長崎　ロシア（南クリル諸島）</td>\n",
              "      <td>NaN</td>\n",
              "      <td>0</td>\n",
              "      <td>0</td>\n",
              "      <td>(0, 0)</td>\n",
              "    </tr>\n",
              "    <tr>\n",
              "      <th>2</th>\n",
              "      <td>1488722144221556736</td>\n",
              "      <td>2022-02-02 03:53:12+00:00</td>\n",
              "      <td>@jensstoltenberg @SecBlinken @RauZbigniew @Jos...</td>\n",
              "      <td>131222694</td>\n",
              "      <td>[{'domain': {'id': '10', 'name': 'Person', 'de...</td>\n",
              "      <td>en</td>\n",
              "      <td>everyone</td>\n",
              "      <td>[{'type': 'replied_to', 'id': '148862016316767...</td>\n",
              "      <td>1488620163167670272</td>\n",
              "      <td>2.079607e+07</td>\n",
              "      <td>...</td>\n",
              "      <td>https://pbs.twimg.com/profile_images/154279417...</td>\n",
              "      <td>boriskulikov83</td>\n",
              "      <td>False</td>\n",
              "      <td>{'description': {'hashtags': [{'start': 93, 'e...</td>\n",
              "      <td>1458364125608755203</td>\n",
              "      <td>新潟　東京　福岡　長崎　ロシア（南クリル諸島）</td>\n",
              "      <td>NaN</td>\n",
              "      <td>0</td>\n",
              "      <td>0</td>\n",
              "      <td>(0, 0)</td>\n",
              "    </tr>\n",
              "    <tr>\n",
              "      <th>3</th>\n",
              "      <td>1488778932396732416</td>\n",
              "      <td>2022-02-02 07:38:52+00:00</td>\n",
              "      <td>#StandWithRussia 🇷🇺🪖💪🏼</td>\n",
              "      <td>1455721787090743296</td>\n",
              "      <td>NaN</td>\n",
              "      <td>und</td>\n",
              "      <td>everyone</td>\n",
              "      <td>NaN</td>\n",
              "      <td>1488778932396732416</td>\n",
              "      <td>NaN</td>\n",
              "      <td>...</td>\n",
              "      <td>https://pbs.twimg.com/profile_images/153765746...</td>\n",
              "      <td>ussygussy369</td>\n",
              "      <td>False</td>\n",
              "      <td>NaN</td>\n",
              "      <td>NaN</td>\n",
              "      <td>The Land</td>\n",
              "      <td>NaN</td>\n",
              "      <td>1</td>\n",
              "      <td>0</td>\n",
              "      <td>(0, 1)</td>\n",
              "    </tr>\n",
              "    <tr>\n",
              "      <th>4</th>\n",
              "      <td>1488959106962669568</td>\n",
              "      <td>2022-02-02 19:34:49+00:00</td>\n",
              "      <td>.@mfa_russia is right to mock @BorisJohnson an...</td>\n",
              "      <td>14109618</td>\n",
              "      <td>[{'domain': {'id': '10', 'name': 'Person', 'de...</td>\n",
              "      <td>en</td>\n",
              "      <td>everyone</td>\n",
              "      <td>NaN</td>\n",
              "      <td>1488959106962669568</td>\n",
              "      <td>NaN</td>\n",
              "      <td>...</td>\n",
              "      <td>https://pbs.twimg.com/profile_images/68370635/...</td>\n",
              "      <td>sengeezer</td>\n",
              "      <td>False</td>\n",
              "      <td>{'url': {'urls': [{'start': 0, 'end': 23, 'url...</td>\n",
              "      <td>NaN</td>\n",
              "      <td>London, England</td>\n",
              "      <td>NaN</td>\n",
              "      <td>1</td>\n",
              "      <td>0</td>\n",
              "      <td>(0, 1)</td>\n",
              "    </tr>\n",
              "  </tbody>\n",
              "</table>\n",
              "<p>5 rows × 43 columns</p>\n",
              "</div>\n",
              "    <div class=\"colab-df-buttons\">\n",
              "\n",
              "  <div class=\"colab-df-container\">\n",
              "    <button class=\"colab-df-convert\" onclick=\"convertToInteractive('df-79c442e9-e07a-4880-8d18-f500bd7d909b')\"\n",
              "            title=\"Convert this dataframe to an interactive table.\"\n",
              "            style=\"display:none;\">\n",
              "\n",
              "  <svg xmlns=\"http://www.w3.org/2000/svg\" height=\"24px\" viewBox=\"0 -960 960 960\">\n",
              "    <path d=\"M120-120v-720h720v720H120Zm60-500h600v-160H180v160Zm220 220h160v-160H400v160Zm0 220h160v-160H400v160ZM180-400h160v-160H180v160Zm440 0h160v-160H620v160ZM180-180h160v-160H180v160Zm440 0h160v-160H620v160Z\"/>\n",
              "  </svg>\n",
              "    </button>\n",
              "\n",
              "  <style>\n",
              "    .colab-df-container {\n",
              "      display:flex;\n",
              "      gap: 12px;\n",
              "    }\n",
              "\n",
              "    .colab-df-convert {\n",
              "      background-color: #E8F0FE;\n",
              "      border: none;\n",
              "      border-radius: 50%;\n",
              "      cursor: pointer;\n",
              "      display: none;\n",
              "      fill: #1967D2;\n",
              "      height: 32px;\n",
              "      padding: 0 0 0 0;\n",
              "      width: 32px;\n",
              "    }\n",
              "\n",
              "    .colab-df-convert:hover {\n",
              "      background-color: #E2EBFA;\n",
              "      box-shadow: 0px 1px 2px rgba(60, 64, 67, 0.3), 0px 1px 3px 1px rgba(60, 64, 67, 0.15);\n",
              "      fill: #174EA6;\n",
              "    }\n",
              "\n",
              "    .colab-df-buttons div {\n",
              "      margin-bottom: 4px;\n",
              "    }\n",
              "\n",
              "    [theme=dark] .colab-df-convert {\n",
              "      background-color: #3B4455;\n",
              "      fill: #D2E3FC;\n",
              "    }\n",
              "\n",
              "    [theme=dark] .colab-df-convert:hover {\n",
              "      background-color: #434B5C;\n",
              "      box-shadow: 0px 1px 3px 1px rgba(0, 0, 0, 0.15);\n",
              "      filter: drop-shadow(0px 1px 2px rgba(0, 0, 0, 0.3));\n",
              "      fill: #FFFFFF;\n",
              "    }\n",
              "  </style>\n",
              "\n",
              "    <script>\n",
              "      const buttonEl =\n",
              "        document.querySelector('#df-79c442e9-e07a-4880-8d18-f500bd7d909b button.colab-df-convert');\n",
              "      buttonEl.style.display =\n",
              "        google.colab.kernel.accessAllowed ? 'block' : 'none';\n",
              "\n",
              "      async function convertToInteractive(key) {\n",
              "        const element = document.querySelector('#df-79c442e9-e07a-4880-8d18-f500bd7d909b');\n",
              "        const dataTable =\n",
              "          await google.colab.kernel.invokeFunction('convertToInteractive',\n",
              "                                                    [key], {});\n",
              "        if (!dataTable) return;\n",
              "\n",
              "        const docLinkHtml = 'Like what you see? Visit the ' +\n",
              "          '<a target=\"_blank\" href=https://colab.research.google.com/notebooks/data_table.ipynb>data table notebook</a>'\n",
              "          + ' to learn more about interactive tables.';\n",
              "        element.innerHTML = '';\n",
              "        dataTable['output_type'] = 'display_data';\n",
              "        await google.colab.output.renderOutput(dataTable, element);\n",
              "        const docLink = document.createElement('div');\n",
              "        docLink.innerHTML = docLinkHtml;\n",
              "        element.appendChild(docLink);\n",
              "      }\n",
              "    </script>\n",
              "  </div>\n",
              "\n",
              "\n",
              "<div id=\"df-d3d7720e-d2ce-4e83-b80f-e0dc03e2644e\">\n",
              "  <button class=\"colab-df-quickchart\" onclick=\"quickchart('df-d3d7720e-d2ce-4e83-b80f-e0dc03e2644e')\"\n",
              "            title=\"Suggest charts.\"\n",
              "            style=\"display:none;\">\n",
              "\n",
              "<svg xmlns=\"http://www.w3.org/2000/svg\" height=\"24px\"viewBox=\"0 0 24 24\"\n",
              "     width=\"24px\">\n",
              "    <g>\n",
              "        <path d=\"M19 3H5c-1.1 0-2 .9-2 2v14c0 1.1.9 2 2 2h14c1.1 0 2-.9 2-2V5c0-1.1-.9-2-2-2zM9 17H7v-7h2v7zm4 0h-2V7h2v10zm4 0h-2v-4h2v4z\"/>\n",
              "    </g>\n",
              "</svg>\n",
              "  </button>\n",
              "\n",
              "<style>\n",
              "  .colab-df-quickchart {\n",
              "      --bg-color: #E8F0FE;\n",
              "      --fill-color: #1967D2;\n",
              "      --hover-bg-color: #E2EBFA;\n",
              "      --hover-fill-color: #174EA6;\n",
              "      --disabled-fill-color: #AAA;\n",
              "      --disabled-bg-color: #DDD;\n",
              "  }\n",
              "\n",
              "  [theme=dark] .colab-df-quickchart {\n",
              "      --bg-color: #3B4455;\n",
              "      --fill-color: #D2E3FC;\n",
              "      --hover-bg-color: #434B5C;\n",
              "      --hover-fill-color: #FFFFFF;\n",
              "      --disabled-bg-color: #3B4455;\n",
              "      --disabled-fill-color: #666;\n",
              "  }\n",
              "\n",
              "  .colab-df-quickchart {\n",
              "    background-color: var(--bg-color);\n",
              "    border: none;\n",
              "    border-radius: 50%;\n",
              "    cursor: pointer;\n",
              "    display: none;\n",
              "    fill: var(--fill-color);\n",
              "    height: 32px;\n",
              "    padding: 0;\n",
              "    width: 32px;\n",
              "  }\n",
              "\n",
              "  .colab-df-quickchart:hover {\n",
              "    background-color: var(--hover-bg-color);\n",
              "    box-shadow: 0 1px 2px rgba(60, 64, 67, 0.3), 0 1px 3px 1px rgba(60, 64, 67, 0.15);\n",
              "    fill: var(--button-hover-fill-color);\n",
              "  }\n",
              "\n",
              "  .colab-df-quickchart-complete:disabled,\n",
              "  .colab-df-quickchart-complete:disabled:hover {\n",
              "    background-color: var(--disabled-bg-color);\n",
              "    fill: var(--disabled-fill-color);\n",
              "    box-shadow: none;\n",
              "  }\n",
              "\n",
              "  .colab-df-spinner {\n",
              "    border: 2px solid var(--fill-color);\n",
              "    border-color: transparent;\n",
              "    border-bottom-color: var(--fill-color);\n",
              "    animation:\n",
              "      spin 1s steps(1) infinite;\n",
              "  }\n",
              "\n",
              "  @keyframes spin {\n",
              "    0% {\n",
              "      border-color: transparent;\n",
              "      border-bottom-color: var(--fill-color);\n",
              "      border-left-color: var(--fill-color);\n",
              "    }\n",
              "    20% {\n",
              "      border-color: transparent;\n",
              "      border-left-color: var(--fill-color);\n",
              "      border-top-color: var(--fill-color);\n",
              "    }\n",
              "    30% {\n",
              "      border-color: transparent;\n",
              "      border-left-color: var(--fill-color);\n",
              "      border-top-color: var(--fill-color);\n",
              "      border-right-color: var(--fill-color);\n",
              "    }\n",
              "    40% {\n",
              "      border-color: transparent;\n",
              "      border-right-color: var(--fill-color);\n",
              "      border-top-color: var(--fill-color);\n",
              "    }\n",
              "    60% {\n",
              "      border-color: transparent;\n",
              "      border-right-color: var(--fill-color);\n",
              "    }\n",
              "    80% {\n",
              "      border-color: transparent;\n",
              "      border-right-color: var(--fill-color);\n",
              "      border-bottom-color: var(--fill-color);\n",
              "    }\n",
              "    90% {\n",
              "      border-color: transparent;\n",
              "      border-bottom-color: var(--fill-color);\n",
              "    }\n",
              "  }\n",
              "</style>\n",
              "\n",
              "  <script>\n",
              "    async function quickchart(key) {\n",
              "      const quickchartButtonEl =\n",
              "        document.querySelector('#' + key + ' button');\n",
              "      quickchartButtonEl.disabled = true;  // To prevent multiple clicks.\n",
              "      quickchartButtonEl.classList.add('colab-df-spinner');\n",
              "      try {\n",
              "        const charts = await google.colab.kernel.invokeFunction(\n",
              "            'suggestCharts', [key], {});\n",
              "      } catch (error) {\n",
              "        console.error('Error during call to suggestCharts:', error);\n",
              "      }\n",
              "      quickchartButtonEl.classList.remove('colab-df-spinner');\n",
              "      quickchartButtonEl.classList.add('colab-df-quickchart-complete');\n",
              "    }\n",
              "    (() => {\n",
              "      let quickchartButtonEl =\n",
              "        document.querySelector('#df-d3d7720e-d2ce-4e83-b80f-e0dc03e2644e button');\n",
              "      quickchartButtonEl.style.display =\n",
              "        google.colab.kernel.accessAllowed ? 'block' : 'none';\n",
              "    })();\n",
              "  </script>\n",
              "</div>\n",
              "    </div>\n",
              "  </div>\n"
            ]
          },
          "metadata": {},
          "execution_count": 11
        }
      ]
    },
    {
      "cell_type": "markdown",
      "source": [
        "# Create function and plot for Bot feature"
      ],
      "metadata": {
        "id": "0QwkSzi8C9Rk"
      }
    },
    {
      "cell_type": "code",
      "execution_count": null,
      "metadata": {
        "id": "G2PWYLQfd38-"
      },
      "outputs": [],
      "source": [
        "newdf.loc[: , ['id','bot_status', 'status','bot_del_tupel']]"
      ]
    },
    {
      "cell_type": "code",
      "execution_count": null,
      "metadata": {
        "id": "HFfD7rV9d63_"
      },
      "outputs": [],
      "source": [
        "print('Not Bot, Not Deleted: ' + str(len(newdf[newdf['bot_del_tupel']==(0,0)])))\n",
        "print('Bot, Not Deleted: ' + str(len(newdf[newdf['bot_del_tupel']==(1,0)])))\n",
        "print('Not Bot, Deleted: ' + str(len(newdf[newdf['bot_del_tupel']==(0,1)])))\n",
        "print('Bot, Deleted: ' + str(len(newdf[newdf['bot_del_tupel']==(1,1)])))"
      ]
    },
    {
      "cell_type": "code",
      "execution_count": 184,
      "metadata": {
        "colab": {
          "base_uri": "https://localhost:8080/",
          "height": 452
        },
        "id": "v1NVKeeneAaq",
        "outputId": "5d06eee3-5e69-4429-a580-dfa2e8b95191"
      },
      "outputs": [
        {
          "output_type": "display_data",
          "data": {
            "text/plain": [
              "<Figure size 640x480 with 1 Axes>"
            ],
            "image/png": "[encoded data removed]"
          },
          "metadata": {}
        }
      ],
      "source": [
        "#create plot to proof/ disproof first thought about bot/deleted (Total amount of tweets)\n",
        "bot_status = ('Not-Bot', 'Bot')\n",
        "deleted_status = {\n",
        "    'Deleted': np.array([len(newdf[newdf['bot_del_tupel']==(0,1)]), len(newdf[newdf['bot_del_tupel']==(1,1)])]),\n",
        "    'Non-Deleted': np.array([len(newdf[newdf['bot_del_tupel']==(0,0)]), len(newdf[newdf['bot_del_tupel']==(1,0)])]),\n",
        "}\n",
        "width = 0.5  # the width of the bars: can also be len(x) sequence\n",
        "\n",
        "\n",
        "fig, ax = plt.subplots()\n",
        "bottom = np.zeros(2)\n",
        "\n",
        "for bot, del_count in deleted_status.items():\n",
        "    p = ax.bar(bot_status, del_count, width, label=bot, bottom=bottom)\n",
        "    bottom += del_count\n",
        "\n",
        "    ax.bar_label(p, label_type='center')\n",
        "\n",
        "ax.set_title('Tweets and their \\\"Deleted/Bot-Status\\\"')\n",
        "ax.legend()\n",
        "\n",
        "plt.show()"
      ]
    },
    {
      "cell_type": "code",
      "execution_count": 185,
      "metadata": {
        "id": "74viWIkqeOj-"
      },
      "outputs": [],
      "source": [
        "#Calculate percantages\n",
        "bd_val = len(newdf[newdf['bot_del_tupel']==(1,1)])\n",
        "nd_val = len(newdf[newdf['bot_del_tupel']==(0,1)])\n",
        "bn_val = len(newdf[newdf['bot_del_tupel']==(1,0)])\n",
        "nn_val = len(newdf[newdf['bot_del_tupel']==(0,0)])\n",
        "\n",
        "total_bot = bd_val + bn_val\n",
        "total_notbot = nd_val + nn_val\n",
        "\n",
        "per_bd_val = bd_val/total_bot\n",
        "per_nd_val = nd_val/total_notbot\n",
        "per_bn_val = bn_val/total_bot\n",
        "per_nn_val = nn_val/total_notbot"
      ]
    },
    {
      "cell_type": "code",
      "execution_count": 186,
      "metadata": {
        "colab": {
          "base_uri": "https://localhost:8080/",
          "height": 452
        },
        "id": "ERHFBTGKeUWy",
        "outputId": "ae887803-294e-4324-9820-4020b8aa67c1"
      },
      "outputs": [
        {
          "output_type": "display_data",
          "data": {
            "text/plain": [
              "<Figure size 640x480 with 1 Axes>"
            ],
            "image/png": "[encoded data removed]"
          },
          "metadata": {}
        }
      ],
      "source": [
        "#create plot to proof/ disproof first thought about bot/deleted (Percentage of tweets)\n",
        "bot_status = ('Bot', 'Not-Bot')\n",
        "\n",
        "deleted_status = {\n",
        "    'Deleted': np.array([per_bd_val , per_nd_val]),\n",
        "    'Non-Deleted': np.array([per_bn_val, per_nn_val]),\n",
        "}\n",
        "width = 0.5  # the width of the bars: can also be len(x) sequence\n",
        "\n",
        "\n",
        "fig, ax = plt.subplots()\n",
        "bottom = np.zeros(2)\n",
        "\n",
        "for bot, del_count in deleted_status.items():\n",
        "    p = ax.bar(bot_status, del_count, width, label=bot, bottom=bottom)\n",
        "    bottom += del_count\n",
        "\n",
        "    ax.bar_label (p,label_type='center', fmt='%g')\n",
        "\n",
        "plt.ylabel('Percentage of Tweets')\n",
        "\n",
        "ax.set_title('Tweets and their \\\"Deleted/Bot-Status\\\"')\n",
        "ax.legend()\n",
        "\n",
        "plt.show()"
      ]
    },
    {
      "cell_type": "markdown",
      "source": [
        "# Machine Learning Part"
      ],
      "metadata": {
        "id": "6RX5J-vXDkfS"
      }
    },
    {
      "cell_type": "code",
      "execution_count": 12,
      "metadata": {
        "colab": {
          "base_uri": "https://localhost:8080/"
        },
        "id": "ve9fQxosfUrn",
        "outputId": "ffa934fd-db7c-42f2-dcc2-ab0676c74a0d"
      },
      "outputs": [
        {
          "output_type": "stream",
          "name": "stderr",
          "text": [
            "[nltk_data] Downloading package stopwords to /root/nltk_data...\n",
            "[nltk_data]   Unzipping corpora/stopwords.zip.\n",
            "[nltk_data] Downloading package wordnet to /root/nltk_data...\n"
          ]
        },
        {
          "output_type": "execute_result",
          "data": {
            "text/plain": [
              "True"
            ]
          },
          "metadata": {},
          "execution_count": 12
        }
      ],
      "source": [
        "nltk.download('stopwords')\n",
        "nltk.download('wordnet')"
      ]
    },
    {
      "cell_type": "code",
      "execution_count": 13,
      "metadata": {
        "colab": {
          "base_uri": "https://localhost:8080/"
        },
        "id": "_2qyCyWzGBQX",
        "outputId": "85542783-f63e-4c32-bab6-120998426fee"
      },
      "outputs": [
        {
          "output_type": "stream",
          "name": "stdout",
          "text": [
            "['id', 'created_at', 'text', 'author_id', 'context_annotations', 'lang', 'reply_settings', 'referenced_tweets', 'conversation_id', 'in_reply_to_user_id', 'in_reply_to_user', 'attachments', 'geo', 'bot', 'majority_lang', 'bot_score', 'mentions', 'hashtags', 'annotations', 'urls', 'translated', 'tag', 'retweet_count', 'reply_count', 'like_count', 'quote_count', 'public_metrics_author', 'url_author', 'id_author', 'protected_author', 'created_at_author', 'name_author', 'description_author', 'profile_image_url_author', 'username_author', 'verified_author', 'entities_author', 'pinned_tweet_id_author', 'location_author', 'withheld_author', 'status', 'bot_status', 'bot_del_tupel']\n"
          ]
        }
      ],
      "source": [
        "print(list(newdf))"
      ]
    },
    {
      "cell_type": "code",
      "source": [
        "Y = newdf['status'].to_numpy()\n",
        "print(Y.shape)"
      ],
      "metadata": {
        "colab": {
          "base_uri": "https://localhost:8080/"
        },
        "id": "ct-fBELsesGt",
        "outputId": "c470da1d-a60e-4634-b41d-4df1bf92455f"
      },
      "execution_count": 14,
      "outputs": [
        {
          "output_type": "stream",
          "name": "stdout",
          "text": [
            "(11665,)\n"
          ]
        }
      ]
    },
    {
      "cell_type": "code",
      "execution_count": 15,
      "metadata": {
        "id": "FftrTsbXPqjA"
      },
      "outputs": [],
      "source": [
        "def convert_hashtags(frame_input):\n",
        "  #for i in frame_input:\n",
        "    hashtag_array = []\n",
        "    #print(frame_input)\n",
        "    for m in frame_input:\n",
        "      text = re.sub(r'start', '', str(m))\n",
        "      text = re.sub(r'end', '', text)\n",
        "      text = re.sub(r'tag', '', text)\n",
        "      text = text.split(\":\")\n",
        "      text = re.sub(r'}', '', text[3])\n",
        "      text = re.sub(r'\\'', '', text)\n",
        "      text = re.sub(r' ', '', text)\n",
        "      hashtag_array.append(text)\n",
        "    return(hashtag_array)"
      ]
    },
    {
      "cell_type": "code",
      "execution_count": 16,
      "metadata": {
        "id": "v7jcJQKNVwvu"
      },
      "outputs": [],
      "source": [
        "newdf = newdf.loc[:, ['text', 'created_at','hashtags','retweet_count','reply_count', 'like_count','description_author','verified_author']]"
      ]
    },
    {
      "cell_type": "code",
      "source": [
        "newdf.hashtags.ffill(inplace = True)\n",
        "newdf['hashtags'] = newdf['hashtags'].apply(convert_hashtags)"
      ],
      "metadata": {
        "id": "veZrFtSjpqpN"
      },
      "execution_count": 17,
      "outputs": []
    },
    {
      "cell_type": "code",
      "source": [
        "newdf.shape"
      ],
      "metadata": {
        "colab": {
          "base_uri": "https://localhost:8080/"
        },
        "id": "wU-gxv5eun8d",
        "outputId": "e49d9408-b7e6-42df-850e-f8fb17b650d2"
      },
      "execution_count": 18,
      "outputs": [
        {
          "output_type": "execute_result",
          "data": {
            "text/plain": [
              "(11665, 8)"
            ]
          },
          "metadata": {},
          "execution_count": 18
        }
      ]
    },
    {
      "cell_type": "code",
      "source": [
        "vectorizedf = newdf.loc[:, ['text', 'hashtags', 'description_author']]\n",
        "vectorizedf.head()"
      ],
      "metadata": {
        "colab": {
          "base_uri": "https://localhost:8080/",
          "height": 276
        },
        "id": "cdflSi0XMh4Y",
        "outputId": "9497bfec-86aa-4118-82d0-8c25bc8fa50e"
      },
      "execution_count": 19,
      "outputs": [
        {
          "output_type": "execute_result",
          "data": {
            "text/plain": [
              "                                                text  \\\n",
              "0  RT @marylin45277502: Bravo Russia. Zionists ar...   \n",
              "1  @SarahMacFCDO @NATO @trussliz Does it mean tha...   \n",
              "2  @jensstoltenberg @SecBlinken @RauZbigniew @Jos...   \n",
              "3                             #StandWithRussia 🇷🇺🪖💪🏼   \n",
              "4  .@mfa_russia is right to mock @BorisJohnson an...   \n",
              "\n",
              "                                            hashtags  \\\n",
              "0                           [Syria, Ukraine, Russia]   \n",
              "1  [NATO, Nazism, Ukrine, NATO, Nazi, StandWithRu...   \n",
              "2  [NATO, East, StandWithRussia, UkraineConflict,...   \n",
              "3                                  [StandWithRussia]   \n",
              "4                                 [IStandWithRussia]   \n",
              "\n",
              "                                  description_author  \n",
              "0                                                     \n",
              "1  消化器内科医師。新潟・東京・福岡・長崎、ロシア、銀座バー。IFMSA 。КГБ СССР, ...  \n",
              "2  消化器内科医師。新潟・東京・福岡・長崎、ロシア、銀座バー。IFMSA 。КГБ СССР, ...  \n",
              "3  do not interact if u are fat, libertarian, or ...  \n",
              "4  A conundrum's private feed. I speak for no one...  "
            ],
            "text/html": [
              "\n",
              "  <div id=\"df-bd33b693-aa09-486c-95e3-d580812ac199\" class=\"colab-df-container\">\n",
              "    <div>\n",
              "<style scoped>\n",
              "    .dataframe tbody tr th:only-of-type {\n",
              "        vertical-align: middle;\n",
              "    }\n",
              "\n",
              "    .dataframe tbody tr th {\n",
              "        vertical-align: top;\n",
              "    }\n",
              "\n",
              "    .dataframe thead th {\n",
              "        text-align: right;\n",
              "    }\n",
              "</style>\n",
              "<table border=\"1\" class=\"dataframe\">\n",
              "  <thead>\n",
              "    <tr style=\"text-align: right;\">\n",
              "      <th></th>\n",
              "      <th>text</th>\n",
              "      <th>hashtags</th>\n",
              "      <th>description_author</th>\n",
              "    </tr>\n",
              "  </thead>\n",
              "  <tbody>\n",
              "    <tr>\n",
              "      <th>0</th>\n",
              "      <td>RT @marylin45277502: Bravo Russia. Zionists ar...</td>\n",
              "      <td>[Syria, Ukraine, Russia]</td>\n",
              "      <td></td>\n",
              "    </tr>\n",
              "    <tr>\n",
              "      <th>1</th>\n",
              "      <td>@SarahMacFCDO @NATO @trussliz Does it mean tha...</td>\n",
              "      <td>[NATO, Nazism, Ukrine, NATO, Nazi, StandWithRu...</td>\n",
              "      <td>消化器内科医師。新潟・東京・福岡・長崎、ロシア、銀座バー。IFMSA 。КГБ СССР, ...</td>\n",
              "    </tr>\n",
              "    <tr>\n",
              "      <th>2</th>\n",
              "      <td>@jensstoltenberg @SecBlinken @RauZbigniew @Jos...</td>\n",
              "      <td>[NATO, East, StandWithRussia, UkraineConflict,...</td>\n",
              "      <td>消化器内科医師。新潟・東京・福岡・長崎、ロシア、銀座バー。IFMSA 。КГБ СССР, ...</td>\n",
              "    </tr>\n",
              "    <tr>\n",
              "      <th>3</th>\n",
              "      <td>#StandWithRussia 🇷🇺🪖💪🏼</td>\n",
              "      <td>[StandWithRussia]</td>\n",
              "      <td>do not interact if u are fat, libertarian, or ...</td>\n",
              "    </tr>\n",
              "    <tr>\n",
              "      <th>4</th>\n",
              "      <td>.@mfa_russia is right to mock @BorisJohnson an...</td>\n",
              "      <td>[IStandWithRussia]</td>\n",
              "      <td>A conundrum's private feed. I speak for no one...</td>\n",
              "    </tr>\n",
              "  </tbody>\n",
              "</table>\n",
              "</div>\n",
              "    <div class=\"colab-df-buttons\">\n",
              "\n",
              "  <div class=\"colab-df-container\">\n",
              "    <button class=\"colab-df-convert\" onclick=\"convertToInteractive('df-bd33b693-aa09-486c-95e3-d580812ac199')\"\n",
              "            title=\"Convert this dataframe to an interactive table.\"\n",
              "            style=\"display:none;\">\n",
              "\n",
              "  <svg xmlns=\"http://www.w3.org/2000/svg\" height=\"24px\" viewBox=\"0 -960 960 960\">\n",
              "    <path d=\"M120-120v-720h720v720H120Zm60-500h600v-160H180v160Zm220 220h160v-160H400v160Zm0 220h160v-160H400v160ZM180-400h160v-160H180v160Zm440 0h160v-160H620v160ZM180-180h160v-160H180v160Zm440 0h160v-160H620v160Z\"/>\n",
              "  </svg>\n",
              "    </button>\n",
              "\n",
              "  <style>\n",
              "    .colab-df-container {\n",
              "      display:flex;\n",
              "      gap: 12px;\n",
              "    }\n",
              "\n",
              "    .colab-df-convert {\n",
              "      background-color: #E8F0FE;\n",
              "      border: none;\n",
              "      border-radius: 50%;\n",
              "      cursor: pointer;\n",
              "      display: none;\n",
              "      fill: #1967D2;\n",
              "      height: 32px;\n",
              "      padding: 0 0 0 0;\n",
              "      width: 32px;\n",
              "    }\n",
              "\n",
              "    .colab-df-convert:hover {\n",
              "      background-color: #E2EBFA;\n",
              "      box-shadow: 0px 1px 2px rgba(60, 64, 67, 0.3), 0px 1px 3px 1px rgba(60, 64, 67, 0.15);\n",
              "      fill: #174EA6;\n",
              "    }\n",
              "\n",
              "    .colab-df-buttons div {\n",
              "      margin-bottom: 4px;\n",
              "    }\n",
              "\n",
              "    [theme=dark] .colab-df-convert {\n",
              "      background-color: #3B4455;\n",
              "      fill: #D2E3FC;\n",
              "    }\n",
              "\n",
              "    [theme=dark] .colab-df-convert:hover {\n",
              "      background-color: #434B5C;\n",
              "      box-shadow: 0px 1px 3px 1px rgba(0, 0, 0, 0.15);\n",
              "      filter: drop-shadow(0px 1px 2px rgba(0, 0, 0, 0.3));\n",
              "      fill: #FFFFFF;\n",
              "    }\n",
              "  </style>\n",
              "\n",
              "    <script>\n",
              "      const buttonEl =\n",
              "        document.querySelector('#df-bd33b693-aa09-486c-95e3-d580812ac199 button.colab-df-convert');\n",
              "      buttonEl.style.display =\n",
              "        google.colab.kernel.accessAllowed ? 'block' : 'none';\n",
              "\n",
              "      async function convertToInteractive(key) {\n",
              "        const element = document.querySelector('#df-bd33b693-aa09-486c-95e3-d580812ac199');\n",
              "        const dataTable =\n",
              "          await google.colab.kernel.invokeFunction('convertToInteractive',\n",
              "                                                    [key], {});\n",
              "        if (!dataTable) return;\n",
              "\n",
              "        const docLinkHtml = 'Like what you see? Visit the ' +\n",
              "          '<a target=\"_blank\" href=https://colab.research.google.com/notebooks/data_table.ipynb>data table notebook</a>'\n",
              "          + ' to learn more about interactive tables.';\n",
              "        element.innerHTML = '';\n",
              "        dataTable['output_type'] = 'display_data';\n",
              "        await google.colab.output.renderOutput(dataTable, element);\n",
              "        const docLink = document.createElement('div');\n",
              "        docLink.innerHTML = docLinkHtml;\n",
              "        element.appendChild(docLink);\n",
              "      }\n",
              "    </script>\n",
              "  </div>\n",
              "\n",
              "\n",
              "<div id=\"df-6d9c4f03-85f7-4f6c-a509-6056bde1f4c3\">\n",
              "  <button class=\"colab-df-quickchart\" onclick=\"quickchart('df-6d9c4f03-85f7-4f6c-a509-6056bde1f4c3')\"\n",
              "            title=\"Suggest charts.\"\n",
              "            style=\"display:none;\">\n",
              "\n",
              "<svg xmlns=\"http://www.w3.org/2000/svg\" height=\"24px\"viewBox=\"0 0 24 24\"\n",
              "     width=\"24px\">\n",
              "    <g>\n",
              "        <path d=\"M19 3H5c-1.1 0-2 .9-2 2v14c0 1.1.9 2 2 2h14c1.1 0 2-.9 2-2V5c0-1.1-.9-2-2-2zM9 17H7v-7h2v7zm4 0h-2V7h2v10zm4 0h-2v-4h2v4z\"/>\n",
              "    </g>\n",
              "</svg>\n",
              "  </button>\n",
              "\n",
              "<style>\n",
              "  .colab-df-quickchart {\n",
              "      --bg-color: #E8F0FE;\n",
              "      --fill-color: #1967D2;\n",
              "      --hover-bg-color: #E2EBFA;\n",
              "      --hover-fill-color: #174EA6;\n",
              "      --disabled-fill-color: #AAA;\n",
              "      --disabled-bg-color: #DDD;\n",
              "  }\n",
              "\n",
              "  [theme=dark] .colab-df-quickchart {\n",
              "      --bg-color: #3B4455;\n",
              "      --fill-color: #D2E3FC;\n",
              "      --hover-bg-color: #434B5C;\n",
              "      --hover-fill-color: #FFFFFF;\n",
              "      --disabled-bg-color: #3B4455;\n",
              "      --disabled-fill-color: #666;\n",
              "  }\n",
              "\n",
              "  .colab-df-quickchart {\n",
              "    background-color: var(--bg-color);\n",
              "    border: none;\n",
              "    border-radius: 50%;\n",
              "    cursor: pointer;\n",
              "    display: none;\n",
              "    fill: var(--fill-color);\n",
              "    height: 32px;\n",
              "    padding: 0;\n",
              "    width: 32px;\n",
              "  }\n",
              "\n",
              "  .colab-df-quickchart:hover {\n",
              "    background-color: var(--hover-bg-color);\n",
              "    box-shadow: 0 1px 2px rgba(60, 64, 67, 0.3), 0 1px 3px 1px rgba(60, 64, 67, 0.15);\n",
              "    fill: var(--button-hover-fill-color);\n",
              "  }\n",
              "\n",
              "  .colab-df-quickchart-complete:disabled,\n",
              "  .colab-df-quickchart-complete:disabled:hover {\n",
              "    background-color: var(--disabled-bg-color);\n",
              "    fill: var(--disabled-fill-color);\n",
              "    box-shadow: none;\n",
              "  }\n",
              "\n",
              "  .colab-df-spinner {\n",
              "    border: 2px solid var(--fill-color);\n",
              "    border-color: transparent;\n",
              "    border-bottom-color: var(--fill-color);\n",
              "    animation:\n",
              "      spin 1s steps(1) infinite;\n",
              "  }\n",
              "\n",
              "  @keyframes spin {\n",
              "    0% {\n",
              "      border-color: transparent;\n",
              "      border-bottom-color: var(--fill-color);\n",
              "      border-left-color: var(--fill-color);\n",
              "    }\n",
              "    20% {\n",
              "      border-color: transparent;\n",
              "      border-left-color: var(--fill-color);\n",
              "      border-top-color: var(--fill-color);\n",
              "    }\n",
              "    30% {\n",
              "      border-color: transparent;\n",
              "      border-left-color: var(--fill-color);\n",
              "      border-top-color: var(--fill-color);\n",
              "      border-right-color: var(--fill-color);\n",
              "    }\n",
              "    40% {\n",
              "      border-color: transparent;\n",
              "      border-right-color: var(--fill-color);\n",
              "      border-top-color: var(--fill-color);\n",
              "    }\n",
              "    60% {\n",
              "      border-color: transparent;\n",
              "      border-right-color: var(--fill-color);\n",
              "    }\n",
              "    80% {\n",
              "      border-color: transparent;\n",
              "      border-right-color: var(--fill-color);\n",
              "      border-bottom-color: var(--fill-color);\n",
              "    }\n",
              "    90% {\n",
              "      border-color: transparent;\n",
              "      border-bottom-color: var(--fill-color);\n",
              "    }\n",
              "  }\n",
              "</style>\n",
              "\n",
              "  <script>\n",
              "    async function quickchart(key) {\n",
              "      const quickchartButtonEl =\n",
              "        document.querySelector('#' + key + ' button');\n",
              "      quickchartButtonEl.disabled = true;  // To prevent multiple clicks.\n",
              "      quickchartButtonEl.classList.add('colab-df-spinner');\n",
              "      try {\n",
              "        const charts = await google.colab.kernel.invokeFunction(\n",
              "            'suggestCharts', [key], {});\n",
              "      } catch (error) {\n",
              "        console.error('Error during call to suggestCharts:', error);\n",
              "      }\n",
              "      quickchartButtonEl.classList.remove('colab-df-spinner');\n",
              "      quickchartButtonEl.classList.add('colab-df-quickchart-complete');\n",
              "    }\n",
              "    (() => {\n",
              "      let quickchartButtonEl =\n",
              "        document.querySelector('#df-6d9c4f03-85f7-4f6c-a509-6056bde1f4c3 button');\n",
              "      quickchartButtonEl.style.display =\n",
              "        google.colab.kernel.accessAllowed ? 'block' : 'none';\n",
              "    })();\n",
              "  </script>\n",
              "</div>\n",
              "    </div>\n",
              "  </div>\n"
            ]
          },
          "metadata": {},
          "execution_count": 19
        }
      ]
    },
    {
      "cell_type": "code",
      "execution_count": 20,
      "metadata": {
        "colab": {
          "base_uri": "https://localhost:8080/"
        },
        "id": "MuInsn3zbiXg",
        "outputId": "b3fb1fda-34f2-4655-d428-9940d492a9fa"
      },
      "outputs": [
        {
          "output_type": "stream",
          "name": "stdout",
          "text": [
            "['text', 'created_at', 'hashtags', 'retweet_count', 'reply_count', 'like_count', 'description_author', 'verified_author']\n",
            "['text', 'hashtags', 'description_author']\n"
          ]
        }
      ],
      "source": [
        "print(list(newdf))\n",
        "print(list(vectorizedf))"
      ]
    },
    {
      "cell_type": "code",
      "execution_count": 21,
      "metadata": {
        "id": "uFBaJtezGE-K"
      },
      "outputs": [],
      "source": [
        "from nltk.stem import WordNetLemmatizer\n",
        "\n",
        "def feature_totext(feature):\n",
        "\n",
        "  X = feature\n",
        "\n",
        "  texts = []\n",
        "\n",
        "  stemmer = WordNetLemmatizer()\n",
        "\n",
        "  for sen in X:\n",
        "      # Remove all the special characters\n",
        "      text = re.sub(r'\\W', ' ', str(sen))\n",
        "\n",
        "      # remove all single characters\n",
        "      text = re.sub(r'\\s+[a-zA-Z]\\s+', ' ', text)\n",
        "\n",
        "      # Remove single characters from the start\n",
        "      text = re.sub(r'\\^[a-zA-Z]\\s+', ' ', text)\n",
        "\n",
        "      # Substituting multiple spaces with single space\n",
        "      text = re.sub(r'\\s+', ' ', text, flags=re.I)\n",
        "\n",
        "      # Removing prefixed 'b'\n",
        "      text = re.sub(r'^b\\s+', '', text)\n",
        "\n",
        "      # Converting to Lowercase\n",
        "      text = text.lower()\n",
        "\n",
        "      # Lemmatization\n",
        "      text = text.split()\n",
        "\n",
        "      text = [stemmer.lemmatize(word) for word in text]\n",
        "      text = ' '.join(text)\n",
        "\n",
        "      texts.append(text)\n",
        "\n",
        "\n",
        "\n",
        "  return texts"
      ]
    },
    {
      "cell_type": "code",
      "source": [
        "newdf.head(5)"
      ],
      "metadata": {
        "colab": {
          "base_uri": "https://localhost:8080/",
          "height": 487
        },
        "id": "902oAeHf1yIt",
        "outputId": "7253b8f1-1a99-4ccc-9599-0ace94978e19"
      },
      "execution_count": 22,
      "outputs": [
        {
          "output_type": "execute_result",
          "data": {
            "text/plain": [
              "                                                text  \\\n",
              "0  RT @marylin45277502: Bravo Russia. Zionists ar...   \n",
              "1  @SarahMacFCDO @NATO @trussliz Does it mean tha...   \n",
              "2  @jensstoltenberg @SecBlinken @RauZbigniew @Jos...   \n",
              "3                             #StandWithRussia 🇷🇺🪖💪🏼   \n",
              "4  .@mfa_russia is right to mock @BorisJohnson an...   \n",
              "\n",
              "                 created_at  \\\n",
              "0 2022-02-01 07:11:33+00:00   \n",
              "1 2022-02-01 14:27:02+00:00   \n",
              "2 2022-02-02 03:53:12+00:00   \n",
              "3 2022-02-02 07:38:52+00:00   \n",
              "4 2022-02-02 19:34:49+00:00   \n",
              "\n",
              "                                            hashtags  retweet_count  \\\n",
              "0                           [Syria, Ukraine, Russia]              4   \n",
              "1  [NATO, Nazism, Ukrine, NATO, Nazi, StandWithRu...              0   \n",
              "2  [NATO, East, StandWithRussia, UkraineConflict,...              0   \n",
              "3                                  [StandWithRussia]              0   \n",
              "4                                 [IStandWithRussia]              0   \n",
              "\n",
              "   reply_count  like_count                                 description_author  \\\n",
              "0            0           0                                                      \n",
              "1            0           1  消化器内科医師。新潟・東京・福岡・長崎、ロシア、銀座バー。IFMSA 。КГБ СССР, ...   \n",
              "2            0           0  消化器内科医師。新潟・東京・福岡・長崎、ロシア、銀座バー。IFMSA 。КГБ СССР, ...   \n",
              "3            0           1  do not interact if u are fat, libertarian, or ...   \n",
              "4            0           0  A conundrum's private feed. I speak for no one...   \n",
              "\n",
              "   verified_author  \n",
              "0            False  \n",
              "1            False  \n",
              "2            False  \n",
              "3            False  \n",
              "4            False  "
            ],
            "text/html": [
              "\n",
              "  <div id=\"df-c22352bc-378e-4b3d-b6dc-2108f4e54fc8\" class=\"colab-df-container\">\n",
              "    <div>\n",
              "<style scoped>\n",
              "    .dataframe tbody tr th:only-of-type {\n",
              "        vertical-align: middle;\n",
              "    }\n",
              "\n",
              "    .dataframe tbody tr th {\n",
              "        vertical-align: top;\n",
              "    }\n",
              "\n",
              "    .dataframe thead th {\n",
              "        text-align: right;\n",
              "    }\n",
              "</style>\n",
              "<table border=\"1\" class=\"dataframe\">\n",
              "  <thead>\n",
              "    <tr style=\"text-align: right;\">\n",
              "      <th></th>\n",
              "      <th>text</th>\n",
              "      <th>created_at</th>\n",
              "      <th>hashtags</th>\n",
              "      <th>retweet_count</th>\n",
              "      <th>reply_count</th>\n",
              "      <th>like_count</th>\n",
              "      <th>description_author</th>\n",
              "      <th>verified_author</th>\n",
              "    </tr>\n",
              "  </thead>\n",
              "  <tbody>\n",
              "    <tr>\n",
              "      <th>0</th>\n",
              "      <td>RT @marylin45277502: Bravo Russia. Zionists ar...</td>\n",
              "      <td>2022-02-01 07:11:33+00:00</td>\n",
              "      <td>[Syria, Ukraine, Russia]</td>\n",
              "      <td>4</td>\n",
              "      <td>0</td>\n",
              "      <td>0</td>\n",
              "      <td></td>\n",
              "      <td>False</td>\n",
              "    </tr>\n",
              "    <tr>\n",
              "      <th>1</th>\n",
              "      <td>@SarahMacFCDO @NATO @trussliz Does it mean tha...</td>\n",
              "      <td>2022-02-01 14:27:02+00:00</td>\n",
              "      <td>[NATO, Nazism, Ukrine, NATO, Nazi, StandWithRu...</td>\n",
              "      <td>0</td>\n",
              "      <td>0</td>\n",
              "      <td>1</td>\n",
              "      <td>消化器内科医師。新潟・東京・福岡・長崎、ロシア、銀座バー。IFMSA 。КГБ СССР, ...</td>\n",
              "      <td>False</td>\n",
              "    </tr>\n",
              "    <tr>\n",
              "      <th>2</th>\n",
              "      <td>@jensstoltenberg @SecBlinken @RauZbigniew @Jos...</td>\n",
              "      <td>2022-02-02 03:53:12+00:00</td>\n",
              "      <td>[NATO, East, StandWithRussia, UkraineConflict,...</td>\n",
              "      <td>0</td>\n",
              "      <td>0</td>\n",
              "      <td>0</td>\n",
              "      <td>消化器内科医師。新潟・東京・福岡・長崎、ロシア、銀座バー。IFMSA 。КГБ СССР, ...</td>\n",
              "      <td>False</td>\n",
              "    </tr>\n",
              "    <tr>\n",
              "      <th>3</th>\n",
              "      <td>#StandWithRussia 🇷🇺🪖💪🏼</td>\n",
              "      <td>2022-02-02 07:38:52+00:00</td>\n",
              "      <td>[StandWithRussia]</td>\n",
              "      <td>0</td>\n",
              "      <td>0</td>\n",
              "      <td>1</td>\n",
              "      <td>do not interact if u are fat, libertarian, or ...</td>\n",
              "      <td>False</td>\n",
              "    </tr>\n",
              "    <tr>\n",
              "      <th>4</th>\n",
              "      <td>.@mfa_russia is right to mock @BorisJohnson an...</td>\n",
              "      <td>2022-02-02 19:34:49+00:00</td>\n",
              "      <td>[IStandWithRussia]</td>\n",
              "      <td>0</td>\n",
              "      <td>0</td>\n",
              "      <td>0</td>\n",
              "      <td>A conundrum's private feed. I speak for no one...</td>\n",
              "      <td>False</td>\n",
              "    </tr>\n",
              "  </tbody>\n",
              "</table>\n",
              "</div>\n",
              "    <div class=\"colab-df-buttons\">\n",
              "\n",
              "  <div class=\"colab-df-container\">\n",
              "    <button class=\"colab-df-convert\" onclick=\"convertToInteractive('df-c22352bc-378e-4b3d-b6dc-2108f4e54fc8')\"\n",
              "            title=\"Convert this dataframe to an interactive table.\"\n",
              "            style=\"display:none;\">\n",
              "\n",
              "  <svg xmlns=\"http://www.w3.org/2000/svg\" height=\"24px\" viewBox=\"0 -960 960 960\">\n",
              "    <path d=\"M120-120v-720h720v720H120Zm60-500h600v-160H180v160Zm220 220h160v-160H400v160Zm0 220h160v-160H400v160ZM180-400h160v-160H180v160Zm440 0h160v-160H620v160ZM180-180h160v-160H180v160Zm440 0h160v-160H620v160Z\"/>\n",
              "  </svg>\n",
              "    </button>\n",
              "\n",
              "  <style>\n",
              "    .colab-df-container {\n",
              "      display:flex;\n",
              "      gap: 12px;\n",
              "    }\n",
              "\n",
              "    .colab-df-convert {\n",
              "      background-color: #E8F0FE;\n",
              "      border: none;\n",
              "      border-radius: 50%;\n",
              "      cursor: pointer;\n",
              "      display: none;\n",
              "      fill: #1967D2;\n",
              "      height: 32px;\n",
              "      padding: 0 0 0 0;\n",
              "      width: 32px;\n",
              "    }\n",
              "\n",
              "    .colab-df-convert:hover {\n",
              "      background-color: #E2EBFA;\n",
              "      box-shadow: 0px 1px 2px rgba(60, 64, 67, 0.3), 0px 1px 3px 1px rgba(60, 64, 67, 0.15);\n",
              "      fill: #174EA6;\n",
              "    }\n",
              "\n",
              "    .colab-df-buttons div {\n",
              "      margin-bottom: 4px;\n",
              "    }\n",
              "\n",
              "    [theme=dark] .colab-df-convert {\n",
              "      background-color: #3B4455;\n",
              "      fill: #D2E3FC;\n",
              "    }\n",
              "\n",
              "    [theme=dark] .colab-df-convert:hover {\n",
              "      background-color: #434B5C;\n",
              "      box-shadow: 0px 1px 3px 1px rgba(0, 0, 0, 0.15);\n",
              "      filter: drop-shadow(0px 1px 2px rgba(0, 0, 0, 0.3));\n",
              "      fill: #FFFFFF;\n",
              "    }\n",
              "  </style>\n",
              "\n",
              "    <script>\n",
              "      const buttonEl =\n",
              "        document.querySelector('#df-c22352bc-378e-4b3d-b6dc-2108f4e54fc8 button.colab-df-convert');\n",
              "      buttonEl.style.display =\n",
              "        google.colab.kernel.accessAllowed ? 'block' : 'none';\n",
              "\n",
              "      async function convertToInteractive(key) {\n",
              "        const element = document.querySelector('#df-c22352bc-378e-4b3d-b6dc-2108f4e54fc8');\n",
              "        const dataTable =\n",
              "          await google.colab.kernel.invokeFunction('convertToInteractive',\n",
              "                                                    [key], {});\n",
              "        if (!dataTable) return;\n",
              "\n",
              "        const docLinkHtml = 'Like what you see? Visit the ' +\n",
              "          '<a target=\"_blank\" href=https://colab.research.google.com/notebooks/data_table.ipynb>data table notebook</a>'\n",
              "          + ' to learn more about interactive tables.';\n",
              "        element.innerHTML = '';\n",
              "        dataTable['output_type'] = 'display_data';\n",
              "        await google.colab.output.renderOutput(dataTable, element);\n",
              "        const docLink = document.createElement('div');\n",
              "        docLink.innerHTML = docLinkHtml;\n",
              "        element.appendChild(docLink);\n",
              "      }\n",
              "    </script>\n",
              "  </div>\n",
              "\n",
              "\n",
              "<div id=\"df-24b4ddb6-b0da-412e-8c01-40ec4ed3d222\">\n",
              "  <button class=\"colab-df-quickchart\" onclick=\"quickchart('df-24b4ddb6-b0da-412e-8c01-40ec4ed3d222')\"\n",
              "            title=\"Suggest charts.\"\n",
              "            style=\"display:none;\">\n",
              "\n",
              "<svg xmlns=\"http://www.w3.org/2000/svg\" height=\"24px\"viewBox=\"0 0 24 24\"\n",
              "     width=\"24px\">\n",
              "    <g>\n",
              "        <path d=\"M19 3H5c-1.1 0-2 .9-2 2v14c0 1.1.9 2 2 2h14c1.1 0 2-.9 2-2V5c0-1.1-.9-2-2-2zM9 17H7v-7h2v7zm4 0h-2V7h2v10zm4 0h-2v-4h2v4z\"/>\n",
              "    </g>\n",
              "</svg>\n",
              "  </button>\n",
              "\n",
              "<style>\n",
              "  .colab-df-quickchart {\n",
              "      --bg-color: #E8F0FE;\n",
              "      --fill-color: #1967D2;\n",
              "      --hover-bg-color: #E2EBFA;\n",
              "      --hover-fill-color: #174EA6;\n",
              "      --disabled-fill-color: #AAA;\n",
              "      --disabled-bg-color: #DDD;\n",
              "  }\n",
              "\n",
              "  [theme=dark] .colab-df-quickchart {\n",
              "      --bg-color: #3B4455;\n",
              "      --fill-color: #D2E3FC;\n",
              "      --hover-bg-color: #434B5C;\n",
              "      --hover-fill-color: #FFFFFF;\n",
              "      --disabled-bg-color: #3B4455;\n",
              "      --disabled-fill-color: #666;\n",
              "  }\n",
              "\n",
              "  .colab-df-quickchart {\n",
              "    background-color: var(--bg-color);\n",
              "    border: none;\n",
              "    border-radius: 50%;\n",
              "    cursor: pointer;\n",
              "    display: none;\n",
              "    fill: var(--fill-color);\n",
              "    height: 32px;\n",
              "    padding: 0;\n",
              "    width: 32px;\n",
              "  }\n",
              "\n",
              "  .colab-df-quickchart:hover {\n",
              "    background-color: var(--hover-bg-color);\n",
              "    box-shadow: 0 1px 2px rgba(60, 64, 67, 0.3), 0 1px 3px 1px rgba(60, 64, 67, 0.15);\n",
              "    fill: var(--button-hover-fill-color);\n",
              "  }\n",
              "\n",
              "  .colab-df-quickchart-complete:disabled,\n",
              "  .colab-df-quickchart-complete:disabled:hover {\n",
              "    background-color: var(--disabled-bg-color);\n",
              "    fill: var(--disabled-fill-color);\n",
              "    box-shadow: none;\n",
              "  }\n",
              "\n",
              "  .colab-df-spinner {\n",
              "    border: 2px solid var(--fill-color);\n",
              "    border-color: transparent;\n",
              "    border-bottom-color: var(--fill-color);\n",
              "    animation:\n",
              "      spin 1s steps(1) infinite;\n",
              "  }\n",
              "\n",
              "  @keyframes spin {\n",
              "    0% {\n",
              "      border-color: transparent;\n",
              "      border-bottom-color: var(--fill-color);\n",
              "      border-left-color: var(--fill-color);\n",
              "    }\n",
              "    20% {\n",
              "      border-color: transparent;\n",
              "      border-left-color: var(--fill-color);\n",
              "      border-top-color: var(--fill-color);\n",
              "    }\n",
              "    30% {\n",
              "      border-color: transparent;\n",
              "      border-left-color: var(--fill-color);\n",
              "      border-top-color: var(--fill-color);\n",
              "      border-right-color: var(--fill-color);\n",
              "    }\n",
              "    40% {\n",
              "      border-color: transparent;\n",
              "      border-right-color: var(--fill-color);\n",
              "      border-top-color: var(--fill-color);\n",
              "    }\n",
              "    60% {\n",
              "      border-color: transparent;\n",
              "      border-right-color: var(--fill-color);\n",
              "    }\n",
              "    80% {\n",
              "      border-color: transparent;\n",
              "      border-right-color: var(--fill-color);\n",
              "      border-bottom-color: var(--fill-color);\n",
              "    }\n",
              "    90% {\n",
              "      border-color: transparent;\n",
              "      border-bottom-color: var(--fill-color);\n",
              "    }\n",
              "  }\n",
              "</style>\n",
              "\n",
              "  <script>\n",
              "    async function quickchart(key) {\n",
              "      const quickchartButtonEl =\n",
              "        document.querySelector('#' + key + ' button');\n",
              "      quickchartButtonEl.disabled = true;  // To prevent multiple clicks.\n",
              "      quickchartButtonEl.classList.add('colab-df-spinner');\n",
              "      try {\n",
              "        const charts = await google.colab.kernel.invokeFunction(\n",
              "            'suggestCharts', [key], {});\n",
              "      } catch (error) {\n",
              "        console.error('Error during call to suggestCharts:', error);\n",
              "      }\n",
              "      quickchartButtonEl.classList.remove('colab-df-spinner');\n",
              "      quickchartButtonEl.classList.add('colab-df-quickchart-complete');\n",
              "    }\n",
              "    (() => {\n",
              "      let quickchartButtonEl =\n",
              "        document.querySelector('#df-24b4ddb6-b0da-412e-8c01-40ec4ed3d222 button');\n",
              "      quickchartButtonEl.style.display =\n",
              "        google.colab.kernel.accessAllowed ? 'block' : 'none';\n",
              "    })();\n",
              "  </script>\n",
              "</div>\n",
              "    </div>\n",
              "  </div>\n"
            ]
          },
          "metadata": {},
          "execution_count": 22
        }
      ]
    },
    {
      "cell_type": "code",
      "execution_count": 23,
      "metadata": {
        "colab": {
          "base_uri": "https://localhost:8080/"
        },
        "id": "RU-RayaKyfBJ",
        "outputId": "b0c6cfbe-dbb5-433d-ac7b-7c347e0bc359"
      },
      "outputs": [
        {
          "output_type": "stream",
          "name": "stdout",
          "text": [
            "(11665, 500)\n",
            "(11665, 500)\n",
            "(11665, 500)\n",
            "(11665, 1500)\n",
            "(11665, 1500)\n"
          ]
        }
      ],
      "source": [
        "from sklearn.feature_extraction.text import CountVectorizer\n",
        "from sklearn.feature_extraction.text import TfidfTransformer\n",
        "\n",
        "list_input = []\n",
        "\n",
        "for i in vectorizedf:\n",
        "\n",
        "  m = feature_totext(vectorizedf[i])\n",
        "  #print(m)\n",
        "\n",
        "  vectorizer = CountVectorizer(max_features=500, min_df=4, max_df=0.9, stop_words=stopwords.words('english'))\n",
        "  X = vectorizer.fit_transform(m).toarray()\n",
        "\n",
        "  tfidfconverter = TfidfTransformer()\n",
        "  X = tfidfconverter.fit_transform(X).toarray()\n",
        "\n",
        "  list_input.append(X)\n",
        "\n",
        "  print(X.shape)\n",
        "\n",
        "\n",
        "data_numpy = np.concatenate(list_input, axis = 1)\n",
        "X = data_numpy\n",
        "\n",
        "print(data_numpy.shape)\n",
        "print(X.shape)"
      ]
    },
    {
      "cell_type": "code",
      "source": [
        "like_count_array = newdf['like_count'].to_numpy()\n",
        "like_count_array = like_count_array[:, np.newaxis]\n",
        "like_count_array.shape"
      ],
      "metadata": {
        "colab": {
          "base_uri": "https://localhost:8080/"
        },
        "id": "Nv82znEXZFOd",
        "outputId": "d8005106-95ca-465a-f302-82ab0a12d195"
      },
      "execution_count": 24,
      "outputs": [
        {
          "output_type": "execute_result",
          "data": {
            "text/plain": [
              "(11665, 1)"
            ]
          },
          "metadata": {},
          "execution_count": 24
        }
      ]
    },
    {
      "cell_type": "code",
      "source": [
        "print(like_count_array)"
      ],
      "metadata": {
        "colab": {
          "base_uri": "https://localhost:8080/"
        },
        "id": "RBiUObt3hb9m",
        "outputId": "718bf822-d59c-4b10-e162-78f6d3c3ce7f"
      },
      "execution_count": 25,
      "outputs": [
        {
          "output_type": "stream",
          "name": "stdout",
          "text": [
            "[[0]\n",
            " [1]\n",
            " [0]\n",
            " ...\n",
            " [0]\n",
            " [0]\n",
            " [0]]\n"
          ]
        }
      ]
    },
    {
      "cell_type": "code",
      "source": [
        "rt_count_array = newdf['retweet_count'].to_numpy()\n",
        "rt_count_array = rt_count_array[:, np.newaxis]\n",
        "rt_count_array.shape"
      ],
      "metadata": {
        "colab": {
          "base_uri": "https://localhost:8080/"
        },
        "id": "M_zHLUVaTYFo",
        "outputId": "7143bb9b-62fc-4bab-bdbc-781cc7dccdfe"
      },
      "execution_count": 26,
      "outputs": [
        {
          "output_type": "execute_result",
          "data": {
            "text/plain": [
              "(11665, 1)"
            ]
          },
          "metadata": {},
          "execution_count": 26
        }
      ]
    },
    {
      "cell_type": "code",
      "source": [
        "print(rt_count_array)"
      ],
      "metadata": {
        "colab": {
          "base_uri": "https://localhost:8080/"
        },
        "id": "Mp8I0za2Tg4C",
        "outputId": "6f885500-6df2-43fa-e925-6e75292b1c69"
      },
      "execution_count": 27,
      "outputs": [
        {
          "output_type": "stream",
          "name": "stdout",
          "text": [
            "[[ 4]\n",
            " [ 0]\n",
            " [ 0]\n",
            " ...\n",
            " [98]\n",
            " [ 0]\n",
            " [ 0]]\n"
          ]
        }
      ]
    },
    {
      "cell_type": "code",
      "source": [
        "reply_count_array = newdf['reply_count'].to_numpy()\n",
        "reply_count_array = reply_count_array[:, np.newaxis]\n",
        "rt_count_array.shape"
      ],
      "metadata": {
        "colab": {
          "base_uri": "https://localhost:8080/"
        },
        "id": "pIWnsaz1VAhn",
        "outputId": "b62fb422-d796-4bb0-b3b7-e09987ab43ad"
      },
      "execution_count": 28,
      "outputs": [
        {
          "output_type": "execute_result",
          "data": {
            "text/plain": [
              "(11665, 1)"
            ]
          },
          "metadata": {},
          "execution_count": 28
        }
      ]
    },
    {
      "cell_type": "code",
      "source": [
        "print(reply_count_array)"
      ],
      "metadata": {
        "colab": {
          "base_uri": "https://localhost:8080/"
        },
        "id": "pr5MXhMfVJq4",
        "outputId": "f08a9b99-efc6-403a-a4a8-c8e2a647ad42"
      },
      "execution_count": 29,
      "outputs": [
        {
          "output_type": "stream",
          "name": "stdout",
          "text": [
            "[[0]\n",
            " [0]\n",
            " [0]\n",
            " ...\n",
            " [0]\n",
            " [0]\n",
            " [0]]\n"
          ]
        }
      ]
    },
    {
      "cell_type": "code",
      "source": [
        "def convert_time(input):\n",
        "    text = re.sub(r'-', ' ', str(input))\n",
        "    text = re.sub(r':', ' ', text)\n",
        "    text = re.sub(r'\\+', '', text)\n",
        "    text = re.sub(r' ', '', text)\n",
        "    return float('0' + '.'  + str(text))"
      ],
      "metadata": {
        "id": "zJlfCVU4Xvpj"
      },
      "execution_count": 30,
      "outputs": []
    },
    {
      "cell_type": "code",
      "source": [
        "def convert_verified(input):\n",
        "  if input == False:\n",
        "    return 0\n",
        "  elif input == True:\n",
        "    return 1\n",
        "  else:\n",
        "    return 'Error'"
      ],
      "metadata": {
        "id": "bssuG8tSjtko"
      },
      "execution_count": 31,
      "outputs": []
    },
    {
      "cell_type": "code",
      "source": [
        "newdf['created_at'] = newdf['created_at'].apply(convert_time)"
      ],
      "metadata": {
        "id": "bmmJMAgSebsI"
      },
      "execution_count": 32,
      "outputs": []
    },
    {
      "cell_type": "code",
      "source": [
        "created_array = newdf['created_at'].to_numpy()\n",
        "created_array = created_array[:, np.newaxis]\n",
        "created_array.shape"
      ],
      "metadata": {
        "colab": {
          "base_uri": "https://localhost:8080/"
        },
        "id": "lsMwPTBgfyR2",
        "outputId": "8b0de940-97dc-44c2-f530-180aceb22a1a"
      },
      "execution_count": 33,
      "outputs": [
        {
          "output_type": "execute_result",
          "data": {
            "text/plain": [
              "(11665, 1)"
            ]
          },
          "metadata": {},
          "execution_count": 33
        }
      ]
    },
    {
      "cell_type": "code",
      "source": [
        "print(created_array)"
      ],
      "metadata": {
        "colab": {
          "base_uri": "https://localhost:8080/"
        },
        "id": "00S4me4Lf8Al",
        "outputId": "73a0c6c0-42dd-4e54-bbde-4d459d968981"
      },
      "execution_count": 34,
      "outputs": [
        {
          "output_type": "stream",
          "name": "stdout",
          "text": [
            "[[0.20220201]\n",
            " [0.20220201]\n",
            " [0.20220202]\n",
            " ...\n",
            " [0.20220228]\n",
            " [0.20220228]\n",
            " [0.20220228]]\n"
          ]
        }
      ]
    },
    {
      "cell_type": "code",
      "source": [
        "newdf['verified_author'] = newdf['verified_author'].apply(convert_verified)"
      ],
      "metadata": {
        "id": "6wU7eWprkMul"
      },
      "execution_count": 35,
      "outputs": []
    },
    {
      "cell_type": "code",
      "source": [
        "verified_array = newdf['verified_author'].to_numpy()\n",
        "verified_array = verified_array[:, np.newaxis]\n",
        "verified_array.shape"
      ],
      "metadata": {
        "colab": {
          "base_uri": "https://localhost:8080/"
        },
        "id": "VOMOQgs5lGVO",
        "outputId": "d917dd2d-7907-42af-d4dc-d34daea45c5d"
      },
      "execution_count": 36,
      "outputs": [
        {
          "output_type": "execute_result",
          "data": {
            "text/plain": [
              "(11665, 1)"
            ]
          },
          "metadata": {},
          "execution_count": 36
        }
      ]
    },
    {
      "cell_type": "code",
      "source": [
        "print(verified_array)"
      ],
      "metadata": {
        "colab": {
          "base_uri": "https://localhost:8080/"
        },
        "id": "yxYxrWirl0Qq",
        "outputId": "8783d834-2c26-4381-c6f4-4e0c405d326a"
      },
      "execution_count": 37,
      "outputs": [
        {
          "output_type": "stream",
          "name": "stdout",
          "text": [
            "[[0]\n",
            " [0]\n",
            " [0]\n",
            " ...\n",
            " [0]\n",
            " [0]\n",
            " [0]]\n"
          ]
        }
      ]
    },
    {
      "cell_type": "code",
      "source": [
        "joined_array = np.concatenate((X, like_count_array, rt_count_array, reply_count_array, created_array, verified_array), axis = 1)\n",
        "joined_array.shape"
      ],
      "metadata": {
        "colab": {
          "base_uri": "https://localhost:8080/"
        },
        "id": "jAn3XxGCZWqb",
        "outputId": "f3ffe6af-b718-430e-c9d8-d3873765319d"
      },
      "execution_count": 38,
      "outputs": [
        {
          "output_type": "execute_result",
          "data": {
            "text/plain": [
              "(11665, 1505)"
            ]
          },
          "metadata": {},
          "execution_count": 38
        }
      ]
    },
    {
      "cell_type": "code",
      "source": [
        "X = joined_array"
      ],
      "metadata": {
        "id": "SbPyQl4cZums"
      },
      "execution_count": 39,
      "outputs": []
    },
    {
      "cell_type": "code",
      "source": [
        "#X = X[:, 1058:2058]"
      ],
      "metadata": {
        "id": "0O1owfvkk9C0"
      },
      "execution_count": 40,
      "outputs": []
    },
    {
      "cell_type": "code",
      "source": [
        "Y = np.array(Y, dtype = np.int32)\n",
        "print(Y.dtype)\n",
        "print(Y.sum())"
      ],
      "metadata": {
        "colab": {
          "base_uri": "https://localhost:8080/"
        },
        "id": "o211alLlfuGX",
        "outputId": "c3c371aa-f90e-4c73-961d-34c4341332d8"
      },
      "execution_count": 41,
      "outputs": [
        {
          "output_type": "stream",
          "name": "stdout",
          "text": [
            "int32\n",
            "10005\n"
          ]
        }
      ]
    },
    {
      "cell_type": "code",
      "source": [
        "from sklearn.model_selection import train_test_split\n",
        "from sklearn.ensemble import RandomForestClassifier, AdaBoostClassifier\n",
        "from sklearn.datasets import make_classification\n",
        "from sklearn.metrics import classification_report, confusion_matrix, accuracy_score, f1_score, balanced_accuracy_score\n",
        "from imblearn.over_sampling import RandomOverSampler\n",
        "from sklearn.tree import DecisionTreeClassifier\n",
        "from sklearn.preprocessing import MinMaxScaler\n",
        "from sklearn.decomposition import PCA\n",
        "from sklearn.linear_model import LogisticRegression"
      ],
      "metadata": {
        "id": "xBt7Cy0HxV3k"
      },
      "execution_count": 42,
      "outputs": []
    },
    {
      "cell_type": "code",
      "source": [
        "#RandomForest\n",
        "\n",
        "X_train_rfc, X_test_rfc, y_train_rfc, y_test_rfc = train_test_split(X, Y, test_size=0.2, random_state=0)\n",
        "\n",
        "\n",
        "\n",
        "# Perform random oversampling\n",
        "#ros = RandomOverSampler(random_state=0)\n",
        "#X_train_ros, y_train_ros = ros.fit_resample(X_train, y_train)\n",
        "\n",
        "RFCclassifier = RandomForestClassifier(n_estimators=1000, random_state=0, class_weight= 'balanced')\n",
        "RFCclassifier.fit(X_train_rfc, y_train_rfc)\n",
        "\n",
        "y_pred_rfc = RFCclassifier.predict(X_test_rfc)\n",
        "\n",
        "print(confusion_matrix(y_test_rfc,y_pred_rfc))\n",
        "print(classification_report(y_test_rfc,y_pred_rfc))\n",
        "print('F1 Score: {:.0%}'.format(f1_score(y_test_rfc,y_pred_rfc)))\n",
        "print('Balanced Accuracy Score: {:.0%}'.format(balanced_accuracy_score(y_test_rfc,y_pred_rfc)))\n"
      ],
      "metadata": {
        "colab": {
          "base_uri": "https://localhost:8080/"
        },
        "id": "NvJLyt92eLh2",
        "outputId": "c96497ce-45f2-48f4-c717-b1a078a23abb"
      },
      "execution_count": 56,
      "outputs": [
        {
          "output_type": "stream",
          "name": "stdout",
          "text": [
            "[[  66  244]\n",
            " [ 257 1766]]\n",
            "              precision    recall  f1-score   support\n",
            "\n",
            "           0       0.20      0.21      0.21       310\n",
            "           1       0.88      0.87      0.88      2023\n",
            "\n",
            "    accuracy                           0.79      2333\n",
            "   macro avg       0.54      0.54      0.54      2333\n",
            "weighted avg       0.79      0.79      0.79      2333\n",
            "\n",
            "F1 Score: 88%\n",
            "Balanced Accuracy Score: 54%\n"
          ]
        }
      ]
    },
    {
      "cell_type": "code",
      "source": [
        "#AdaBoost\n",
        "\n",
        "X_train_ada, X_test_ada, y_train_ada, y_test_ada = train_test_split(X, Y, test_size=0.2, random_state=0)\n",
        "\n",
        "\n",
        "\n",
        "# Perform random oversampling\n",
        "adaros = RandomOverSampler(random_state=0)\n",
        "X_train_ros_ada, y_train_ros_ada = adaros.fit_resample(X_train_ada, y_train_ada)\n",
        "\n",
        "Adaclassifier = AdaBoostClassifier(n_estimators=250, random_state=0)\n",
        "Adaclassifier.fit(X_train_ros_ada, y_train_ros_ada)\n",
        "\n",
        "y_pred_ada = Adaclassifier.predict(X_test_ada)\n",
        "\n",
        "print(confusion_matrix(y_test_ada,y_pred_ada))\n",
        "print(classification_report(y_test_ada,y_pred_ada))\n",
        "print('F1 Score: {:.0%}'.format(f1_score(y_test_ada,y_pred_ada)))\n",
        "print('Balanced Accuracy Score: {:.0%}'.format(balanced_accuracy_score(y_test_ada,y_pred_ada)))\n"
      ],
      "metadata": {
        "colab": {
          "base_uri": "https://localhost:8080/"
        },
        "outputId": "8f7e710c-0635-47a9-b790-46aef3e34f5a",
        "id": "XDvlQDVncjxP"
      },
      "execution_count": 59,
      "outputs": [
        {
          "output_type": "stream",
          "name": "stdout",
          "text": [
            "[[ 173  137]\n",
            " [ 889 1134]]\n",
            "              precision    recall  f1-score   support\n",
            "\n",
            "           0       0.16      0.56      0.25       310\n",
            "           1       0.89      0.56      0.69      2023\n",
            "\n",
            "    accuracy                           0.56      2333\n",
            "   macro avg       0.53      0.56      0.47      2333\n",
            "weighted avg       0.80      0.56      0.63      2333\n",
            "\n",
            "F1 Score: 69%\n",
            "Balanced Accuracy Score: 56%\n"
          ]
        }
      ]
    },
    {
      "cell_type": "code",
      "source": [
        "#DecisionTree\n",
        "\n",
        "\n",
        "X_train_dt, X_test_dt, y_train_dt, y_test_dt = train_test_split(X, Y, test_size=0.2, random_state=0)\n",
        "\n",
        "\n",
        "#dt_scaler = MinMaxScaler()\n",
        "#dt_scaler.fit(X_train_dt)\n",
        "#X_train_dt = dt_scaler.transform(X_train_dt)\n",
        "#X_test_dt = dt_scaler.transform(X_test_dt)\n",
        "\n",
        "#dt_pca = PCA(n_components=3)\n",
        "#dt_pca.fit(X_train_dt)\n",
        "#X_train_pca_dt = dt_pca.transform(X_train_dt)\n",
        "#X_test_pca_dt = dt_pca.transform(X_test_dt)\n",
        "\n",
        "\n",
        "# Perform random oversampling\n",
        "#ros = RandomOverSampler(random_state=0)\n",
        "#X_train_ros, y_train_ros = ros.fit_resample(X_train, y_train)\n",
        "\n",
        "dt_classifier = DecisionTreeClassifier(random_state=0, class_weight='balanced')\n",
        "dt_classifier.fit(X_train_dt, y_train_dt)\n",
        "\n",
        "y_pred_dt = dt_classifier.predict(X_test_dt)\n",
        "\n",
        "print(confusion_matrix(y_test_dt,y_pred_dt))\n",
        "print(classification_report(y_test_dt,y_pred_dt))\n",
        "print('F1 Score: {:.0%}'.format(f1_score(y_test_dt, y_pred_dt)))\n",
        "print('Balanced Accuracy Score: {:.0%}'.format(balanced_accuracy_score(y_test_dt, y_pred_dt)))\n",
        "\n"
      ],
      "metadata": {
        "colab": {
          "base_uri": "https://localhost:8080/"
        },
        "outputId": "d40daf09-7ab1-4ee3-8d09-faf23f50a013",
        "id": "U83HvJlzgo43"
      },
      "execution_count": 54,
      "outputs": [
        {
          "output_type": "stream",
          "name": "stdout",
          "text": [
            "[[ 118  192]\n",
            " [ 523 1500]]\n",
            "              precision    recall  f1-score   support\n",
            "\n",
            "           0       0.18      0.38      0.25       310\n",
            "           1       0.89      0.74      0.81      2023\n",
            "\n",
            "    accuracy                           0.69      2333\n",
            "   macro avg       0.54      0.56      0.53      2333\n",
            "weighted avg       0.79      0.69      0.73      2333\n",
            "\n",
            "F1 Score: 81%\n",
            "Balanced Accuracy Score: 56%\n"
          ]
        }
      ]
    },
    {
      "cell_type": "code",
      "source": [
        "#Logistic Regression\n",
        "\n",
        "X_train_lr, X_test_lr, y_train_lr, y_test_lr = train_test_split(X, Y, test_size=0.2, random_state=0)\n",
        "\n",
        "\n",
        "dt_scaler = MinMaxScaler()\n",
        "dt_scaler.fit(X_train_dt)\n",
        "X_train_lr = dt_scaler.transform(X_train_lr)\n",
        "X_test_lr = dt_scaler.transform(X_test_lr)\n",
        "\n",
        "#lr_pca = PCA(n_components=2)\n",
        "#lr_pca.fit(X_train_lr)\n",
        "#X_train_pca_lr = lr_pca.transform(X_train_lr)\n",
        "#X_test_pca_lr = lr_pca.transform(X_test_lr)\n",
        "\n",
        "\n",
        "# Perform random oversampling\n",
        "#ros = RandomOverSampler(random_state=0)\n",
        "#X_train_ros, y_train_ros = ros.fit_resample(X_train_lr, y_train_lr)\n",
        "\n",
        "lr_classifier = LogisticRegression(class_weight='balanced', max_iter=500)\n",
        "lr_classifier.fit(X_train_lr, y_train_lr)\n",
        "\n",
        "y_pred_lr = lr_classifier.predict(X_test_lr)\n",
        "\n",
        "print(confusion_matrix(y_test_lr,y_pred_lr))\n",
        "print(classification_report(y_test_lr,y_pred_lr))\n",
        "print('F1 Score: {:.0%}'.format(f1_score(y_test_lr,y_pred_lr)))\n",
        "print('Balanced Accuracy Score: {:.0%}'.format(balanced_accuracy_score(y_test_lr,y_pred_lr)))\n"
      ],
      "metadata": {
        "colab": {
          "base_uri": "https://localhost:8080/"
        },
        "outputId": "a46b7e47-810a-47ed-b2b1-86f0c5f8ad5e",
        "id": "YA0DQkT1r7eX"
      },
      "execution_count": 55,
      "outputs": [
        {
          "output_type": "stream",
          "name": "stdout",
          "text": [
            "[[ 170  140]\n",
            " [ 786 1237]]\n",
            "              precision    recall  f1-score   support\n",
            "\n",
            "           0       0.18      0.55      0.27       310\n",
            "           1       0.90      0.61      0.73      2023\n",
            "\n",
            "    accuracy                           0.60      2333\n",
            "   macro avg       0.54      0.58      0.50      2333\n",
            "weighted avg       0.80      0.60      0.67      2333\n",
            "\n",
            "F1 Score: 73%\n",
            "Balanced Accuracy Score: 58%\n"
          ]
        }
      ]
    },
    {
      "cell_type": "code",
      "source": [
        "from sklearn.metrics import roc_curve, auc\n",
        "\n",
        "rfc_fpr, rfc_tpr, _ = roc_curve(y_test_rfc, y_pred_rfc)\n",
        "auc_rfc = auc(rfc_fpr, rfc_tpr)\n",
        "\n",
        "ada_fpr, ada_tpr, _ = roc_curve(y_test_ada, y_pred_ada)\n",
        "auc_ada = auc(ada_fpr, ada_tpr)\n",
        "\n",
        "dt_fpr, dt_tpr, _ = roc_curve(y_test_dt, y_pred_dt)\n",
        "auc_dt = auc(dt_fpr, dt_tpr)\n",
        "\n",
        "lr_fpr, lr_tpr, _ = roc_curve(y_test_lr, y_pred_lr)\n",
        "auc_lr = auc(lr_fpr, lr_tpr)\n",
        "\n",
        "plt.figure(figsize=(5, 5), dpi=100)\n",
        "plt.plot(rfc_fpr, rfc_tpr, marker='.', label='RFC (auc = %0.3f)' % auc_rfc)\n",
        "plt.plot(ada_fpr, ada_tpr, marker='.', label='ADA (auc = %0.3f)' % auc_ada)\n",
        "plt.plot(dt_fpr, dt_tpr, marker='.', label='DT (auc = %0.3f)' % auc_dt)\n",
        "plt.plot(lr_fpr, lr_tpr, marker='.', label='LR (auc = %0.3f)' % auc_lr)\n",
        "\n",
        "plt.xlabel('False Positive Rate -->')\n",
        "plt.ylabel('True Positive Rate -->')\n",
        "\n",
        "plt.legend()\n",
        "\n",
        "plt.show()"
      ],
      "metadata": {
        "colab": {
          "base_uri": "https://localhost:8080/",
          "height": 465
        },
        "id": "51E92Xrkv6EV",
        "outputId": "c2a58cf9-d25b-4c70-8005-d1b1dbcc3465"
      },
      "execution_count": 47,
      "outputs": [
        {
          "output_type": "display_data",
          "data": {
            "text/plain": [
              "<Figure size 500x500 with 1 Axes>"
            ],
            "image/png": "[encoded data removed]"
          },
          "metadata": {}
        }
      ]
    },
    {
      "cell_type": "code",
      "source": [
        "print(y_pred_lr)"
      ],
      "metadata": {
        "colab": {
          "base_uri": "https://localhost:8080/"
        },
        "id": "MF1ziMk1td3m",
        "outputId": "ef9bc49a-d537-4dca-ebe6-f889da810882"
      },
      "execution_count": 61,
      "outputs": [
        {
          "output_type": "stream",
          "name": "stdout",
          "text": [
            "[0 0 0 ... 1 0 0]\n"
          ]
        }
      ]
    },
    {
      "cell_type": "code",
      "source": [
        "from sklearn.metrics import roc_auc_score\n",
        "from matplotlib import pyplot\n",
        "# keep probabilities for the positive outcome only\n",
        "lr_probs = y_pred_lr\n",
        "lr_probs = lr_probs[:, np.newaxis]\n",
        "\n",
        "y_test_abdcd = y_test_lr[:, np.newaxis]\n",
        "\n",
        "# calculate scores\n",
        "lr_auc = roc_auc_score(y_test_abdcd, lr_probs)\n",
        "# summarize scores\n",
        "print('Logistic: ROC AUC=%.3f' % (lr_auc))\n",
        "# calculate roc curves\n",
        "lr_fpr, lr_tpr, _ = roc_curve(y_test_abdcd, lr_probs)\n",
        "# plot the roc curve for the model\n",
        "pyplot.plot(lr_fpr, lr_tpr, marker='.', label='Logistic')\n",
        "pyplot.xlabel('False Positive Rate')\n",
        "pyplot.ylabel('True Positive Rate')\n",
        "pyplot.legend()\n",
        "pyplot.show()"
      ],
      "metadata": {
        "colab": {
          "base_uri": "https://localhost:8080/",
          "height": 467
        },
        "id": "yqdyHBOctMF5",
        "outputId": "1eeddd2f-ffc3-47c5-fbfc-cc0b31302700"
      },
      "execution_count": 67,
      "outputs": [
        {
          "output_type": "stream",
          "name": "stdout",
          "text": [
            "Logistic: ROC AUC=0.580\n"
          ]
        },
        {
          "output_type": "display_data",
          "data": {
            "text/plain": [
              "<Figure size 640x480 with 1 Axes>"
            ],
            "image/png": "[encoded data removed]"
          },
          "metadata": {}
        }
      ]
    },
    {
      "cell_type": "code",
      "source": [],
      "metadata": {
        "id": "87NtsvtS8wfg"
      },
      "execution_count": 47,
      "outputs": []
    }
  ],
  "metadata": {
    "colab": {
      "provenance": [],
      "collapsed_sections": [
        "tBg7-VhZ9j5j",
        "4TLVatyY9sX1",
        "ZhvZVmfK-CkV",
        "B-k2y1-3Cljp",
        "0QwkSzi8C9Rk"
      ],
      "mount_file_id": "1m8YwRW6PybgADheXzPA-ZLJg7YUjo0-y",
      "authorship_tag": "ABX9TyNQTh8lV40T1/L8UGkm4QRf",
      "include_colab_link": true
    },
    "kernelspec": {
      "display_name": "Python 3",
      "name": "python3"
    },
    "language_info": {
      "name": "python"
    }
  },
  "nbformat": 4,
  "nbformat_minor": 0
}